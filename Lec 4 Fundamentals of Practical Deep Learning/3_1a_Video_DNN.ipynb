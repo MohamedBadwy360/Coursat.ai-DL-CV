{
  "nbformat": 4,
  "nbformat_minor": 0,
  "metadata": {
    "colab": {
      "provenance": []
    },
    "kernelspec": {
      "name": "python3",
      "display_name": "Python 3"
    },
    "accelerator": "GPU"
  },
  "cells": [
    {
      "cell_type": "code",
      "metadata": {
        "id": "4mIiJURN9nMd"
      },
      "source": [
        "from tensorflow.keras import models\n",
        "from tensorflow.keras import layers\n",
        "import numpy as np\n"
      ],
      "execution_count": null,
      "outputs": []
    },
    {
      "cell_type": "code",
      "metadata": {
        "id": "CDoSqT2u-OPx",
        "colab": {
          "base_uri": "https://localhost:8080/",
          "height": 272
        },
        "outputId": "e8d8bbd3-5f17-41f8-9882-f23c1638eea3"
      },
      "source": [
        "model = models.Sequential()\n",
        "model.add(layers.Dense(100,'relu', input_shape=(28*28*1,)))\n",
        "#model.add(layers.Conv2D(4,(2,2), input_shape=(28,28,1)))#default is data_format=channels_last\n",
        "#model.add(layers.Flatten())\n",
        "model.add(layers.Dense(100, 'relu'))\n",
        "model.add(layers.Dense(10,'softmax'))\n",
        "print(model.summary())\n"
      ],
      "execution_count": null,
      "outputs": [
        {
          "output_type": "stream",
          "text": [
            "Model: \"sequential_19\"\n",
            "_________________________________________________________________\n",
            "Layer (type)                 Output Shape              Param #   \n",
            "=================================================================\n",
            "dense_57 (Dense)             (None, 100)               78500     \n",
            "_________________________________________________________________\n",
            "dense_58 (Dense)             (None, 100)               10100     \n",
            "_________________________________________________________________\n",
            "dense_59 (Dense)             (None, 10)                1010      \n",
            "=================================================================\n",
            "Total params: 89,610\n",
            "Trainable params: 89,610\n",
            "Non-trainable params: 0\n",
            "_________________________________________________________________\n",
            "None\n"
          ],
          "name": "stdout"
        }
      ]
    },
    {
      "cell_type": "code",
      "metadata": {
        "id": "DPm0IE9kKoUF",
        "colab": {
          "base_uri": "https://localhost:8080/",
          "height": 369
        },
        "outputId": "720b80bb-ccbd-4a7a-9406-134142c036bd"
      },
      "source": [
        "from tensorflow.keras.utils import plot_model\n",
        "plot_model(model, to_file='model.png')"
      ],
      "execution_count": null,
      "outputs": [
        {
          "output_type": "execute_result",
          "data": {
            "image/png": "[encoded data removed]",
            "text/plain": [
              "<IPython.core.display.Image object>"
            ]
          },
          "metadata": {
            "tags": []
          },
          "execution_count": 275
        }
      ]
    },
    {
      "cell_type": "code",
      "metadata": {
        "id": "v2z8kQi2-xrB"
      },
      "source": [
        "model.compile(optimizer='rmsprop',loss='sparse_categorical_crossentropy', metrics=['acc'])"
      ],
      "execution_count": null,
      "outputs": []
    },
    {
      "cell_type": "code",
      "metadata": {
        "id": "aBUTTHHoAIZ_"
      },
      "source": [
        "from keras.datasets import mnist\n",
        "(train_images, train_labels), (test_images, test_labels) = mnist.load_data()"
      ],
      "execution_count": null,
      "outputs": []
    },
    {
      "cell_type": "code",
      "metadata": {
        "id": "HhTYU6k8AXXA",
        "colab": {
          "base_uri": "https://localhost:8080/",
          "height": 34
        },
        "outputId": "3213a7d0-c024-4de8-d3ff-bafdf5f5ea27"
      },
      "source": [
        "train_images.shape"
      ],
      "execution_count": null,
      "outputs": [
        {
          "output_type": "execute_result",
          "data": {
            "text/plain": [
              "(60000, 28, 28)"
            ]
          },
          "metadata": {
            "tags": []
          },
          "execution_count": 278
        }
      ]
    },
    {
      "cell_type": "code",
      "metadata": {
        "id": "x7g7z1PRBEWx"
      },
      "source": [
        "#(train_images, train_labels), (test_images, test_labels) = (np.expand_dims(train_images,-1), train_labels), (np.expand_dims(test_images,-1), test_labels)"
      ],
      "execution_count": null,
      "outputs": []
    },
    {
      "cell_type": "code",
      "metadata": {
        "id": "OlCanjfXBLfX",
        "colab": {
          "base_uri": "https://localhost:8080/",
          "height": 34
        },
        "outputId": "1af8db60-08db-4af5-d5db-4d217b38f195"
      },
      "source": [
        "train_images.shape"
      ],
      "execution_count": null,
      "outputs": [
        {
          "output_type": "execute_result",
          "data": {
            "text/plain": [
              "(60000, 28, 28)"
            ]
          },
          "metadata": {
            "tags": []
          },
          "execution_count": 280
        }
      ]
    },
    {
      "cell_type": "code",
      "metadata": {
        "id": "7LNT-AUHIPtD",
        "colab": {
          "base_uri": "https://localhost:8080/",
          "height": 34
        },
        "outputId": "886fc706-7d1a-40f0-8484-8a68e6d52cd6"
      },
      "source": [
        "train_labels.shape"
      ],
      "execution_count": null,
      "outputs": [
        {
          "output_type": "execute_result",
          "data": {
            "text/plain": [
              "(60000,)"
            ]
          },
          "metadata": {
            "tags": []
          },
          "execution_count": 281
        }
      ]
    },
    {
      "cell_type": "code",
      "metadata": {
        "id": "GD3bSu1dvPUO"
      },
      "source": [
        "#train_images.reshape(60000,28*28)"
      ],
      "execution_count": null,
      "outputs": []
    },
    {
      "cell_type": "code",
      "metadata": {
        "id": "whZrifMAv0y9"
      },
      "source": [
        "#test_images.shape"
      ],
      "execution_count": null,
      "outputs": []
    },
    {
      "cell_type": "code",
      "metadata": {
        "id": "MJvz-8kJvnvl"
      },
      "source": [
        "#test_images.reshape(10000,28*28)"
      ],
      "execution_count": null,
      "outputs": []
    },
    {
      "cell_type": "code",
      "metadata": {
        "id": "vQGYwyHUAaPJ",
        "colab": {
          "base_uri": "https://localhost:8080/",
          "height": 697
        },
        "outputId": "9d600bca-f104-471d-9fe3-483a3feedb3d"
      },
      "source": [
        "import numpy as np\n",
        "training_history=model.fit(train_images.reshape(60000,28*28), train_labels, validation_data=(test_images.reshape(10000,28*28), test_labels), epochs=20, batch_size=100)"
      ],
      "execution_count": null,
      "outputs": [
        {
          "output_type": "stream",
          "text": [
            "Epoch 1/20\n",
            "600/600 [==============================] - 1s 2ms/step - loss: 2.3167 - acc: 0.8591 - val_loss: 0.5714 - val_acc: 0.9250\n",
            "Epoch 2/20\n",
            "600/600 [==============================] - 1s 2ms/step - loss: 0.4689 - acc: 0.9286 - val_loss: 0.4448 - val_acc: 0.9300\n",
            "Epoch 3/20\n",
            "600/600 [==============================] - 1s 2ms/step - loss: 0.2859 - acc: 0.9457 - val_loss: 0.2849 - val_acc: 0.9494\n",
            "Epoch 4/20\n",
            "600/600 [==============================] - 1s 2ms/step - loss: 0.2038 - acc: 0.9565 - val_loss: 0.2468 - val_acc: 0.9482\n",
            "Epoch 5/20\n",
            "600/600 [==============================] - 1s 2ms/step - loss: 0.1674 - acc: 0.9622 - val_loss: 0.2887 - val_acc: 0.9522\n",
            "Epoch 6/20\n",
            "600/600 [==============================] - 1s 2ms/step - loss: 0.1498 - acc: 0.9668 - val_loss: 0.2376 - val_acc: 0.9572\n",
            "Epoch 7/20\n",
            "600/600 [==============================] - 1s 2ms/step - loss: 0.1350 - acc: 0.9700 - val_loss: 0.2334 - val_acc: 0.9605\n",
            "Epoch 8/20\n",
            "600/600 [==============================] - 1s 2ms/step - loss: 0.1243 - acc: 0.9727 - val_loss: 0.2398 - val_acc: 0.9634\n",
            "Epoch 9/20\n",
            "600/600 [==============================] - 1s 2ms/step - loss: 0.1167 - acc: 0.9733 - val_loss: 0.2488 - val_acc: 0.9639\n",
            "Epoch 10/20\n",
            "600/600 [==============================] - 1s 2ms/step - loss: 0.1082 - acc: 0.9761 - val_loss: 0.2709 - val_acc: 0.9620\n",
            "Epoch 11/20\n",
            "600/600 [==============================] - 1s 2ms/step - loss: 0.1077 - acc: 0.9772 - val_loss: 0.3392 - val_acc: 0.9604\n",
            "Epoch 12/20\n",
            "600/600 [==============================] - 1s 2ms/step - loss: 0.1061 - acc: 0.9775 - val_loss: 0.2432 - val_acc: 0.9703\n",
            "Epoch 13/20\n",
            "600/600 [==============================] - 1s 2ms/step - loss: 0.1051 - acc: 0.9782 - val_loss: 0.3033 - val_acc: 0.9652\n",
            "Epoch 14/20\n",
            "600/600 [==============================] - 1s 2ms/step - loss: 0.1023 - acc: 0.9792 - val_loss: 0.2664 - val_acc: 0.9711\n",
            "Epoch 15/20\n",
            "600/600 [==============================] - 1s 2ms/step - loss: 0.1001 - acc: 0.9797 - val_loss: 0.2892 - val_acc: 0.9688\n",
            "Epoch 16/20\n",
            "600/600 [==============================] - 1s 2ms/step - loss: 0.0951 - acc: 0.9816 - val_loss: 0.3535 - val_acc: 0.9669\n",
            "Epoch 17/20\n",
            "600/600 [==============================] - 1s 2ms/step - loss: 0.0971 - acc: 0.9811 - val_loss: 0.3605 - val_acc: 0.9698\n",
            "Epoch 18/20\n",
            "600/600 [==============================] - 1s 2ms/step - loss: 0.0882 - acc: 0.9815 - val_loss: 0.3058 - val_acc: 0.9670\n",
            "Epoch 19/20\n",
            "600/600 [==============================] - 1s 2ms/step - loss: 0.0872 - acc: 0.9828 - val_loss: 0.3216 - val_acc: 0.9673\n",
            "Epoch 20/20\n",
            "600/600 [==============================] - 1s 2ms/step - loss: 0.0852 - acc: 0.9836 - val_loss: 0.3570 - val_acc: 0.9650\n"
          ],
          "name": "stdout"
        }
      ]
    },
    {
      "cell_type": "code",
      "metadata": {
        "id": "1JbjlQR_OFd5",
        "colab": {
          "base_uri": "https://localhost:8080/",
          "height": 312
        },
        "outputId": "deae9579-9b28-42ad-fec7-2dcf8246a495"
      },
      "source": [
        "import matplotlib.pyplot as plt\n",
        "\n",
        "plt.plot(epochs,training_history.history['acc'],label='Training Accuracy')\n",
        "plt.plot(epochs,training_history.history['val_acc'],label='Validation Accuracy')\n",
        "plt.title('model accuracy')\n",
        "plt.ylabel('accuracy')\n",
        "plt.xlabel('epoch')\n",
        "plt.legend()\n"
      ],
      "execution_count": null,
      "outputs": [
        {
          "output_type": "execute_result",
          "data": {
            "text/plain": [
              "<matplotlib.legend.Legend at 0x7fad828e77f0>"
            ]
          },
          "metadata": {
            "tags": []
          },
          "execution_count": 286
        },
        {
          "output_type": "display_data",
          "data": {
            "image/png": "[encoded data removed]",
            "text/plain": [
              "<Figure size 432x288 with 1 Axes>"
            ]
          },
          "metadata": {
            "tags": []
          }
        }
      ]
    },
    {
      "cell_type": "code",
      "metadata": {
        "id": "xpW_NZ8YOGQs",
        "colab": {
          "base_uri": "https://localhost:8080/",
          "height": 312
        },
        "outputId": "622a92bd-6d1b-42c6-de1e-c53333282ad1"
      },
      "source": [
        "plt.plot(training_history.history['loss'],label='Training Loss')\n",
        "plt.plot(training_history.history['val_loss'],label='Validation Accuracy')\n",
        "plt.title('model loss')\n",
        "plt.ylabel('loss')\n",
        "plt.xlabel('epoch')\n",
        "plt.legend()\n"
      ],
      "execution_count": null,
      "outputs": [
        {
          "output_type": "execute_result",
          "data": {
            "text/plain": [
              "<matplotlib.legend.Legend at 0x7fad829ea860>"
            ]
          },
          "metadata": {
            "tags": []
          },
          "execution_count": 287
        },
        {
          "output_type": "display_data",
          "data": {
            "image/png": "[encoded data removed]",
            "text/plain": [
              "<Figure size 432x288 with 1 Axes>"
            ]
          },
          "metadata": {
            "tags": []
          }
        }
      ]
    },
    {
      "cell_type": "markdown",
      "metadata": {
        "id": "ui22wZx7BbGF"
      },
      "source": [
        "# Let's reshape into video data\n",
        "Say we take every 10 frames of the 60K into one video stream:"
      ]
    },
    {
      "cell_type": "code",
      "metadata": {
        "id": "3rzcIdIzfDUw"
      },
      "source": [
        "from keras.datasets import mnist\n",
        "(train_images, train_labels), (test_images, test_labels) = mnist.load_data()"
      ],
      "execution_count": null,
      "outputs": []
    },
    {
      "cell_type": "code",
      "metadata": {
        "id": "hH0_Kku6BQrR"
      },
      "source": [
        "(train_images, train_labels), (test_images, test_labels) = (np.reshape(train_images, (6000,10,28*28)), np.reshape(train_labels, (6000,10))), (np.reshape(test_images, (1000,10,28*28)), np.reshape(test_labels, (1000,10)))"
      ],
      "execution_count": null,
      "outputs": []
    },
    {
      "cell_type": "code",
      "metadata": {
        "id": "Pw0KID2xCv9R",
        "colab": {
          "base_uri": "https://localhost:8080/",
          "height": 1000
        },
        "outputId": "e4e4fb84-7151-4d1a-908d-edc32e598b24"
      },
      "source": [
        "\n",
        "training_history=model.fit(train_images, train_labels, validation_data=(test_images, test_labels), epochs=75, batch_size=100)   #when reshape into video we need more epochs and more layers"
      ],
      "execution_count": null,
      "outputs": [
        {
          "output_type": "stream",
          "text": [
            "Epoch 1/75\n",
            "WARNING:tensorflow:Model was constructed with shape (None, 784) for input Tensor(\"dense_57_input:0\", shape=(None, 784), dtype=float32), but it was called on an input with incompatible shape (100, 10, 784).\n",
            "53/60 [=========================>....] - ETA: 0s - loss: 0.0366 - acc: 0.9912WARNING:tensorflow:Model was constructed with shape (None, 784) for input Tensor(\"dense_57_input:0\", shape=(None, 784), dtype=float32), but it was called on an input with incompatible shape (100, 10, 784).\n",
            "60/60 [==============================] - 0s 5ms/step - loss: 0.0377 - acc: 0.9911 - val_loss: 0.1963 - val_acc: 0.9719\n",
            "Epoch 2/75\n",
            "60/60 [==============================] - 0s 4ms/step - loss: 0.0282 - acc: 0.9923 - val_loss: 0.1857 - val_acc: 0.9746\n",
            "Epoch 3/75\n",
            "60/60 [==============================] - 0s 4ms/step - loss: 0.0231 - acc: 0.9936 - val_loss: 0.1948 - val_acc: 0.9758\n",
            "Epoch 4/75\n",
            "60/60 [==============================] - 0s 4ms/step - loss: 0.0225 - acc: 0.9942 - val_loss: 0.2206 - val_acc: 0.9726\n",
            "Epoch 5/75\n",
            "60/60 [==============================] - 0s 4ms/step - loss: 0.0202 - acc: 0.9943 - val_loss: 0.1887 - val_acc: 0.9738\n",
            "Epoch 6/75\n",
            "60/60 [==============================] - 0s 3ms/step - loss: 0.0163 - acc: 0.9952 - val_loss: 0.1845 - val_acc: 0.9763\n",
            "Epoch 7/75\n",
            "60/60 [==============================] - 0s 4ms/step - loss: 0.0167 - acc: 0.9955 - val_loss: 0.1898 - val_acc: 0.9758\n",
            "Epoch 8/75\n",
            "60/60 [==============================] - 0s 3ms/step - loss: 0.0206 - acc: 0.9949 - val_loss: 0.1907 - val_acc: 0.9782\n",
            "Epoch 9/75\n",
            "60/60 [==============================] - 0s 4ms/step - loss: 0.0150 - acc: 0.9957 - val_loss: 0.2024 - val_acc: 0.9765\n",
            "Epoch 10/75\n",
            "60/60 [==============================] - 0s 3ms/step - loss: 0.0140 - acc: 0.9962 - val_loss: 0.1965 - val_acc: 0.9765\n",
            "Epoch 11/75\n",
            "60/60 [==============================] - 0s 3ms/step - loss: 0.0152 - acc: 0.9959 - val_loss: 0.2051 - val_acc: 0.9753\n",
            "Epoch 12/75\n",
            "60/60 [==============================] - 0s 4ms/step - loss: 0.0156 - acc: 0.9963 - val_loss: 0.1974 - val_acc: 0.9771\n",
            "Epoch 13/75\n",
            "60/60 [==============================] - 0s 3ms/step - loss: 0.0130 - acc: 0.9968 - val_loss: 0.2137 - val_acc: 0.9759\n",
            "Epoch 14/75\n",
            "60/60 [==============================] - 0s 4ms/step - loss: 0.0128 - acc: 0.9965 - val_loss: 0.2149 - val_acc: 0.9751\n",
            "Epoch 15/75\n",
            "60/60 [==============================] - 0s 4ms/step - loss: 0.0122 - acc: 0.9969 - val_loss: 0.2371 - val_acc: 0.9721\n",
            "Epoch 16/75\n",
            "60/60 [==============================] - 0s 4ms/step - loss: 0.0145 - acc: 0.9967 - val_loss: 0.2227 - val_acc: 0.9742\n",
            "Epoch 17/75\n",
            "60/60 [==============================] - 0s 3ms/step - loss: 0.0104 - acc: 0.9972 - val_loss: 0.2290 - val_acc: 0.9758\n",
            "Epoch 18/75\n",
            "60/60 [==============================] - 0s 3ms/step - loss: 0.0119 - acc: 0.9969 - val_loss: 0.2015 - val_acc: 0.9772\n",
            "Epoch 19/75\n",
            "60/60 [==============================] - 0s 4ms/step - loss: 0.0115 - acc: 0.9971 - val_loss: 0.2389 - val_acc: 0.9732\n",
            "Epoch 20/75\n",
            "60/60 [==============================] - 0s 4ms/step - loss: 0.0110 - acc: 0.9972 - val_loss: 0.2115 - val_acc: 0.9774\n",
            "Epoch 21/75\n",
            "60/60 [==============================] - 0s 3ms/step - loss: 0.0097 - acc: 0.9973 - val_loss: 0.2168 - val_acc: 0.9752\n",
            "Epoch 22/75\n",
            "60/60 [==============================] - 0s 3ms/step - loss: 0.0112 - acc: 0.9974 - val_loss: 0.2202 - val_acc: 0.9745\n",
            "Epoch 23/75\n",
            "60/60 [==============================] - 0s 3ms/step - loss: 0.0094 - acc: 0.9977 - val_loss: 0.2195 - val_acc: 0.9759\n",
            "Epoch 24/75\n",
            "60/60 [==============================] - 0s 4ms/step - loss: 0.0090 - acc: 0.9977 - val_loss: 0.2106 - val_acc: 0.9765\n",
            "Epoch 25/75\n",
            "60/60 [==============================] - 0s 4ms/step - loss: 0.0099 - acc: 0.9973 - val_loss: 0.2226 - val_acc: 0.9764\n",
            "Epoch 26/75\n",
            "60/60 [==============================] - 0s 3ms/step - loss: 0.0098 - acc: 0.9974 - val_loss: 0.2198 - val_acc: 0.9754\n",
            "Epoch 27/75\n",
            "60/60 [==============================] - 0s 3ms/step - loss: 0.0102 - acc: 0.9978 - val_loss: 0.2041 - val_acc: 0.9768\n",
            "Epoch 28/75\n",
            "60/60 [==============================] - 0s 4ms/step - loss: 0.0108 - acc: 0.9975 - val_loss: 0.2335 - val_acc: 0.9740\n",
            "Epoch 29/75\n",
            "60/60 [==============================] - 0s 4ms/step - loss: 0.0110 - acc: 0.9973 - val_loss: 0.2275 - val_acc: 0.9741\n",
            "Epoch 30/75\n",
            "60/60 [==============================] - 0s 3ms/step - loss: 0.0094 - acc: 0.9976 - val_loss: 0.2157 - val_acc: 0.9766\n",
            "Epoch 31/75\n",
            "60/60 [==============================] - 0s 4ms/step - loss: 0.0110 - acc: 0.9973 - val_loss: 0.2406 - val_acc: 0.9727\n",
            "Epoch 32/75\n",
            "60/60 [==============================] - 0s 3ms/step - loss: 0.0086 - acc: 0.9980 - val_loss: 0.2698 - val_acc: 0.9722\n",
            "Epoch 33/75\n",
            "60/60 [==============================] - 0s 4ms/step - loss: 0.0074 - acc: 0.9980 - val_loss: 0.2513 - val_acc: 0.9746\n",
            "Epoch 34/75\n",
            "60/60 [==============================] - 0s 4ms/step - loss: 0.0091 - acc: 0.9977 - val_loss: 0.2246 - val_acc: 0.9779\n",
            "Epoch 35/75\n",
            "60/60 [==============================] - 0s 4ms/step - loss: 0.0084 - acc: 0.9981 - val_loss: 0.2454 - val_acc: 0.9729\n",
            "Epoch 36/75\n",
            "60/60 [==============================] - 0s 4ms/step - loss: 0.0089 - acc: 0.9980 - val_loss: 0.2398 - val_acc: 0.9760\n",
            "Epoch 37/75\n",
            "60/60 [==============================] - 0s 3ms/step - loss: 0.0096 - acc: 0.9978 - val_loss: 0.2446 - val_acc: 0.9768\n",
            "Epoch 38/75\n",
            "60/60 [==============================] - 0s 4ms/step - loss: 0.0088 - acc: 0.9981 - val_loss: 0.2489 - val_acc: 0.9760\n",
            "Epoch 39/75\n",
            "60/60 [==============================] - 0s 3ms/step - loss: 0.0067 - acc: 0.9985 - val_loss: 0.2304 - val_acc: 0.9769\n",
            "Epoch 40/75\n",
            "60/60 [==============================] - 0s 4ms/step - loss: 0.0062 - acc: 0.9984 - val_loss: 0.2400 - val_acc: 0.9771\n",
            "Epoch 41/75\n",
            "60/60 [==============================] - 0s 3ms/step - loss: 0.0092 - acc: 0.9979 - val_loss: 0.2380 - val_acc: 0.9772\n",
            "Epoch 42/75\n",
            "60/60 [==============================] - 0s 3ms/step - loss: 0.0075 - acc: 0.9983 - val_loss: 0.2497 - val_acc: 0.9770\n",
            "Epoch 43/75\n",
            "60/60 [==============================] - 0s 4ms/step - loss: 0.0079 - acc: 0.9982 - val_loss: 0.2442 - val_acc: 0.9752\n",
            "Epoch 44/75\n",
            "60/60 [==============================] - 0s 3ms/step - loss: 0.0087 - acc: 0.9980 - val_loss: 0.2298 - val_acc: 0.9756\n",
            "Epoch 45/75\n",
            "60/60 [==============================] - 0s 4ms/step - loss: 0.0074 - acc: 0.9984 - val_loss: 0.2511 - val_acc: 0.9765\n",
            "Epoch 46/75\n",
            "60/60 [==============================] - 0s 4ms/step - loss: 0.0102 - acc: 0.9978 - val_loss: 0.2419 - val_acc: 0.9768\n",
            "Epoch 47/75\n",
            "60/60 [==============================] - 0s 4ms/step - loss: 0.0065 - acc: 0.9986 - val_loss: 0.2393 - val_acc: 0.9762\n",
            "Epoch 48/75\n",
            "60/60 [==============================] - 0s 4ms/step - loss: 0.0061 - acc: 0.9986 - val_loss: 0.2590 - val_acc: 0.9754\n",
            "Epoch 49/75\n",
            "60/60 [==============================] - 0s 3ms/step - loss: 0.0081 - acc: 0.9984 - val_loss: 0.2340 - val_acc: 0.9768\n",
            "Epoch 50/75\n",
            "60/60 [==============================] - 0s 3ms/step - loss: 0.0081 - acc: 0.9982 - val_loss: 0.2423 - val_acc: 0.9756\n",
            "Epoch 51/75\n",
            "60/60 [==============================] - 0s 4ms/step - loss: 0.0056 - acc: 0.9986 - val_loss: 0.2667 - val_acc: 0.9754\n",
            "Epoch 52/75\n",
            "60/60 [==============================] - 0s 4ms/step - loss: 0.0061 - acc: 0.9984 - val_loss: 0.2526 - val_acc: 0.9765\n",
            "Epoch 53/75\n",
            "60/60 [==============================] - 0s 4ms/step - loss: 0.0074 - acc: 0.9984 - val_loss: 0.2726 - val_acc: 0.9739\n",
            "Epoch 54/75\n",
            "60/60 [==============================] - 0s 4ms/step - loss: 0.0089 - acc: 0.9982 - val_loss: 0.2359 - val_acc: 0.9788\n",
            "Epoch 55/75\n",
            "60/60 [==============================] - 0s 4ms/step - loss: 0.0066 - acc: 0.9982 - val_loss: 0.2373 - val_acc: 0.9763\n",
            "Epoch 56/75\n",
            "60/60 [==============================] - 0s 4ms/step - loss: 0.0060 - acc: 0.9987 - val_loss: 0.2478 - val_acc: 0.9760\n",
            "Epoch 57/75\n",
            "60/60 [==============================] - 0s 4ms/step - loss: 0.0082 - acc: 0.9984 - val_loss: 0.2372 - val_acc: 0.9773\n",
            "Epoch 58/75\n",
            "60/60 [==============================] - 0s 3ms/step - loss: 0.0058 - acc: 0.9987 - val_loss: 0.2712 - val_acc: 0.9754\n",
            "Epoch 59/75\n",
            "60/60 [==============================] - 0s 3ms/step - loss: 0.0071 - acc: 0.9983 - val_loss: 0.2432 - val_acc: 0.9758\n",
            "Epoch 60/75\n",
            "60/60 [==============================] - 0s 4ms/step - loss: 0.0054 - acc: 0.9989 - val_loss: 0.2485 - val_acc: 0.9771\n",
            "Epoch 61/75\n",
            "60/60 [==============================] - 0s 4ms/step - loss: 0.0071 - acc: 0.9986 - val_loss: 0.2633 - val_acc: 0.9751\n",
            "Epoch 62/75\n",
            "60/60 [==============================] - 0s 4ms/step - loss: 0.0087 - acc: 0.9980 - val_loss: 0.2580 - val_acc: 0.9745\n",
            "Epoch 63/75\n",
            "60/60 [==============================] - 0s 3ms/step - loss: 0.0059 - acc: 0.9987 - val_loss: 0.2310 - val_acc: 0.9779\n",
            "Epoch 64/75\n",
            "60/60 [==============================] - 0s 3ms/step - loss: 0.0080 - acc: 0.9984 - val_loss: 0.2523 - val_acc: 0.9774\n",
            "Epoch 65/75\n",
            "60/60 [==============================] - 0s 4ms/step - loss: 0.0058 - acc: 0.9987 - val_loss: 0.2299 - val_acc: 0.9793\n",
            "Epoch 66/75\n",
            "60/60 [==============================] - 0s 4ms/step - loss: 0.0081 - acc: 0.9985 - val_loss: 0.2553 - val_acc: 0.9773\n",
            "Epoch 67/75\n",
            "60/60 [==============================] - 0s 3ms/step - loss: 0.0059 - acc: 0.9987 - val_loss: 0.2452 - val_acc: 0.9779\n",
            "Epoch 68/75\n",
            "60/60 [==============================] - 0s 3ms/step - loss: 0.0082 - acc: 0.9984 - val_loss: 0.2501 - val_acc: 0.9772\n",
            "Epoch 69/75\n",
            "60/60 [==============================] - 0s 3ms/step - loss: 0.0058 - acc: 0.9989 - val_loss: 0.2590 - val_acc: 0.9765\n",
            "Epoch 70/75\n",
            "60/60 [==============================] - 0s 4ms/step - loss: 0.0051 - acc: 0.9987 - val_loss: 0.2598 - val_acc: 0.9768\n",
            "Epoch 71/75\n",
            "60/60 [==============================] - 0s 4ms/step - loss: 0.0096 - acc: 0.9983 - val_loss: 0.2371 - val_acc: 0.9787\n",
            "Epoch 72/75\n",
            "60/60 [==============================] - 0s 4ms/step - loss: 0.0048 - acc: 0.9990 - val_loss: 0.2553 - val_acc: 0.9769\n",
            "Epoch 73/75\n",
            "60/60 [==============================] - 0s 4ms/step - loss: 0.0061 - acc: 0.9987 - val_loss: 0.2572 - val_acc: 0.9764\n",
            "Epoch 74/75\n",
            "60/60 [==============================] - 0s 3ms/step - loss: 0.0081 - acc: 0.9985 - val_loss: 0.2646 - val_acc: 0.9761\n",
            "Epoch 75/75\n",
            "60/60 [==============================] - 0s 4ms/step - loss: 0.0088 - acc: 0.9983 - val_loss: 0.2661 - val_acc: 0.9755\n"
          ],
          "name": "stdout"
        }
      ]
    },
    {
      "cell_type": "code",
      "metadata": {
        "id": "nRdTORxfQvpm",
        "colab": {
          "base_uri": "https://localhost:8080/",
          "height": 312
        },
        "outputId": "16d8d2a2-4906-4ef3-adf7-1d2f5db5b4bd"
      },
      "source": [
        "plt.plot(training_history.history['acc'],label='Training Accuracy')\n",
        "plt.plot(training_history.history['val_acc'],label='Validation Accuracy')\n",
        "plt.title('model accuracy')\n",
        "plt.ylabel('accuracy')\n",
        "plt.xlabel('epoch')\n",
        "plt.legend()\n"
      ],
      "execution_count": null,
      "outputs": [
        {
          "output_type": "execute_result",
          "data": {
            "text/plain": [
              "<matplotlib.legend.Legend at 0x7fad84619710>"
            ]
          },
          "metadata": {
            "tags": []
          },
          "execution_count": 291
        },
        {
          "output_type": "display_data",
          "data": {
            "image/png": "[encoded data removed]",
            "text/plain": [
              "<Figure size 432x288 with 1 Axes>"
            ]
          },
          "metadata": {
            "tags": []
          }
        }
      ]
    },
    {
      "cell_type": "code",
      "metadata": {
        "id": "EIbZ7NQXQv0n",
        "colab": {
          "base_uri": "https://localhost:8080/",
          "height": 312
        },
        "outputId": "bc8cebe5-ef70-4665-a582-007218820a35"
      },
      "source": [
        "plt.plot(training_history.history['loss'],label='Training Loss')\n",
        "plt.plot(training_history.history['val_loss'],label='Validation Accuracy')\n",
        "plt.title('model loss')\n",
        "plt.ylabel('loss')\n",
        "plt.xlabel('epoch')\n",
        "plt.legend()\n"
      ],
      "execution_count": null,
      "outputs": [
        {
          "output_type": "execute_result",
          "data": {
            "text/plain": [
              "<matplotlib.legend.Legend at 0x7fad845e8588>"
            ]
          },
          "metadata": {
            "tags": []
          },
          "execution_count": 292
        },
        {
          "output_type": "display_data",
          "data": {
            "image/png": "[encoded data removed]",
            "text/plain": [
              "<Figure size 432x288 with 1 Axes>"
            ]
          },
          "metadata": {
            "tags": []
          }
        }
      ]
    },
    {
      "cell_type": "markdown",
      "metadata": {
        "id": "ipJugjy8FTZM"
      },
      "source": [
        "__So how can we feed the 5D video data?__\n",
        "\n",
        "# TimeDistributed to the rescue!\n",
        "\n",
        "What we actually seek is to apply the __same__ filter, across all the video frames (we don't need a separate parameters for every frame)\n"
      ]
    },
    {
      "cell_type": "markdown",
      "metadata": {
        "id": "pOP05xokF99r"
      },
      "source": [
        "This wrapper applies a layer to every temporal slice of an input.\n",
        "\n",
        "The input should be at least 3D, and the dimension of index one will be considered to be the temporal dimension.\n",
        "\n"
      ]
    },
    {
      "cell_type": "code",
      "metadata": {
        "id": "MLv0n04KFx05",
        "colab": {
          "base_uri": "https://localhost:8080/",
          "height": 272
        },
        "outputId": "e480f16a-fea9-4866-9839-5ae2e8766262"
      },
      "source": [
        "model = models.Sequential()\n",
        "model.add(layers.TimeDistributed(layers.Dense(100,'relu'), input_shape=(10,28*28)))\n",
        "#model.add(layers.TimeDistributed(layers.Conv2D(4,(2,2)), input_shape=(10, 28,28,1)))\n",
        "#model.add(layers.Flatten())\n",
        "model.add(layers.Dense(100, 'relu'))\n",
        "model.add(layers.Dense(10,'softmax'))\n",
        "#model.build(input_shape=(10,28*28,1))\n",
        "print(model.summary())\n"
      ],
      "execution_count": null,
      "outputs": [
        {
          "output_type": "stream",
          "text": [
            "Model: \"sequential_20\"\n",
            "_________________________________________________________________\n",
            "Layer (type)                 Output Shape              Param #   \n",
            "=================================================================\n",
            "time_distributed_6 (TimeDist (None, 10, 100)           78500     \n",
            "_________________________________________________________________\n",
            "dense_61 (Dense)             (None, 10, 100)           10100     \n",
            "_________________________________________________________________\n",
            "dense_62 (Dense)             (None, 10, 10)            1010      \n",
            "=================================================================\n",
            "Total params: 89,610\n",
            "Trainable params: 89,610\n",
            "Non-trainable params: 0\n",
            "_________________________________________________________________\n",
            "None\n"
          ],
          "name": "stdout"
        }
      ]
    },
    {
      "cell_type": "code",
      "metadata": {
        "id": "lVvCDuH4gK5M"
      },
      "source": [
        "model.compile(optimizer='rmsprop',loss='sparse_categorical_crossentropy', metrics=['acc'])"
      ],
      "execution_count": null,
      "outputs": []
    },
    {
      "cell_type": "code",
      "metadata": {
        "id": "zBLFgzUhfvNH",
        "colab": {
          "base_uri": "https://localhost:8080/",
          "height": 369
        },
        "outputId": "f68f7e7e-5c6f-4503-8457-dc09bb8a0fbf"
      },
      "source": [
        "plot_model(model, to_file='model.png')"
      ],
      "execution_count": null,
      "outputs": [
        {
          "output_type": "execute_result",
          "data": {
            "image/png": "[encoded data removed]",
            "text/plain": [
              "<IPython.core.display.Image object>"
            ]
          },
          "metadata": {
            "tags": []
          },
          "execution_count": 295
        }
      ]
    },
    {
      "cell_type": "markdown",
      "metadata": {
        "id": "KMB6XdNKGLZu"
      },
      "source": [
        "Notice how the number of parameters remain the same (20)!\n",
        "\n",
        "Since we repeat the same filter across all the frames.\n",
        "\n",
        "However, the output of flatten is x10, since we just concat all the frames outputs."
      ]
    },
    {
      "cell_type": "code",
      "metadata": {
        "id": "AiSY1pu-HOL4"
      },
      "source": [
        "model.compile(optimizer='rmsprop',loss='sparse_categorical_crossentropy', metrics=['acc'])"
      ],
      "execution_count": null,
      "outputs": []
    },
    {
      "cell_type": "code",
      "metadata": {
        "id": "fpOS3C_THSWZ"
      },
      "source": [
        "from keras.datasets import mnist\n",
        "(train_images, train_labels), (test_images, test_labels) = mnist.load_data()\n",
        "#(train_images, train_labels), (test_images, test_labels) = (np.reshape(train_images, (6000,10,28,28,1)), np.reshape(train_labels, (6000,10,1))), (np.reshape(test_images, (1000,10,28,28,1)), np.reshape(test_labels, (1000,10,1)))\n",
        "train_images, test_images = np.reshape(train_images, (6000,10,28*28)), np.reshape(test_images, (1000,10,28*28))"
      ],
      "execution_count": null,
      "outputs": []
    },
    {
      "cell_type": "markdown",
      "metadata": {
        "id": "VsFXHIHrIo5v"
      },
      "source": [
        "In this case, we are __grouping/summarizing__ every 10 frames into one video, which can have __one__label.\n",
        "\n",
        "So we need to take the last labels of every 10 as the video label:\n",
        "But if we want to do this, we can'"
      ]
    },
    {
      "cell_type": "code",
      "metadata": {
        "id": "pais4pESI76e"
      },
      "source": [
        "#train_labels[::10].shape"
      ],
      "execution_count": null,
      "outputs": []
    },
    {
      "cell_type": "code",
      "metadata": {
        "id": "KOeliEpIF-tm",
        "colab": {
          "base_uri": "https://localhost:8080/",
          "height": 85
        },
        "outputId": "76622f3b-cde1-4926-f077-d13b499e7320"
      },
      "source": [
        "print(train_images.shape)\n",
        "print(test_images.shape)\n",
        "print(train_labels.shape)\n",
        "print(test_labels.shape)"
      ],
      "execution_count": null,
      "outputs": [
        {
          "output_type": "stream",
          "text": [
            "(6000, 10, 784)\n",
            "(1000, 10, 784)\n",
            "(60000,)\n",
            "(10000,)\n"
          ],
          "name": "stdout"
        }
      ]
    },
    {
      "cell_type": "code",
      "metadata": {
        "id": "ItL-TE0AG5Q6"
      },
      "source": [],
      "execution_count": null,
      "outputs": []
    },
    {
      "cell_type": "code",
      "metadata": {
        "id": "6ZK80DYfHqfk",
        "colab": {
          "base_uri": "https://localhost:8080/",
          "height": 34
        },
        "outputId": "22828f8b-03b2-4744-cb60-ad58e3275fa3"
      },
      "source": [
        "print(train_labels.shape)"
      ],
      "execution_count": null,
      "outputs": [
        {
          "output_type": "stream",
          "text": [
            "(60000,)\n"
          ],
          "name": "stdout"
        }
      ]
    },
    {
      "cell_type": "code",
      "metadata": {
        "id": "6oFWNn02Jq99"
      },
      "source": [
        "#train_labels = train_labels[::10]\n",
        "#test_labels = test_labels[::10]"
      ],
      "execution_count": null,
      "outputs": []
    },
    {
      "cell_type": "code",
      "metadata": {
        "id": "v2Quut0XHNu7",
        "colab": {
          "base_uri": "https://localhost:8080/",
          "height": 697
        },
        "outputId": "ead5e757-2494-4aa7-faa6-da2506e4da29"
      },
      "source": [
        "\n",
        "training_history=model.fit(np.reshape(train_images,(6000,10,784)), np.reshape(train_labels,(6000,10,1)), validation_data=(np.reshape(test_images,(1000,10,784)), np.reshape(test_labels,(1000,10,1))), epochs=20, batch_size=100)"
      ],
      "execution_count": null,
      "outputs": [
        {
          "output_type": "stream",
          "text": [
            "Epoch 1/20\n",
            "60/60 [==============================] - 0s 5ms/step - loss: 8.5787 - acc: 0.4590 - val_loss: 6.0943 - val_acc: 0.6149\n",
            "Epoch 2/20\n",
            "60/60 [==============================] - 0s 3ms/step - loss: 5.6480 - acc: 0.6405 - val_loss: 4.5311 - val_acc: 0.7113\n",
            "Epoch 3/20\n",
            "60/60 [==============================] - 0s 4ms/step - loss: 4.4789 - acc: 0.7148 - val_loss: 4.5182 - val_acc: 0.7127\n",
            "Epoch 4/20\n",
            "60/60 [==============================] - 0s 3ms/step - loss: 4.3064 - acc: 0.7263 - val_loss: 4.1608 - val_acc: 0.7368\n",
            "Epoch 5/20\n",
            "60/60 [==============================] - 0s 3ms/step - loss: 3.7979 - acc: 0.7574 - val_loss: 2.8193 - val_acc: 0.8169\n",
            "Epoch 6/20\n",
            "60/60 [==============================] - 0s 3ms/step - loss: 2.6293 - acc: 0.8306 - val_loss: 2.7912 - val_acc: 0.8186\n",
            "Epoch 7/20\n",
            "60/60 [==============================] - 0s 3ms/step - loss: 2.5277 - acc: 0.8370 - val_loss: 2.6801 - val_acc: 0.8271\n",
            "Epoch 8/20\n",
            "60/60 [==============================] - 0s 4ms/step - loss: 2.4586 - acc: 0.8428 - val_loss: 2.6697 - val_acc: 0.8287\n",
            "Epoch 9/20\n",
            "60/60 [==============================] - 0s 3ms/step - loss: 2.4122 - acc: 0.8454 - val_loss: 2.6123 - val_acc: 0.8329\n",
            "Epoch 10/20\n",
            "60/60 [==============================] - 0s 3ms/step - loss: 2.3859 - acc: 0.8467 - val_loss: 2.5298 - val_acc: 0.8381\n",
            "Epoch 11/20\n",
            "60/60 [==============================] - 0s 3ms/step - loss: 2.3357 - acc: 0.8509 - val_loss: 2.4894 - val_acc: 0.8408\n",
            "Epoch 12/20\n",
            "60/60 [==============================] - 0s 3ms/step - loss: 2.3048 - acc: 0.8529 - val_loss: 2.4766 - val_acc: 0.8404\n",
            "Epoch 13/20\n",
            "60/60 [==============================] - 0s 4ms/step - loss: 2.2860 - acc: 0.8544 - val_loss: 2.3880 - val_acc: 0.8481\n",
            "Epoch 14/20\n",
            "60/60 [==============================] - 0s 3ms/step - loss: 2.2517 - acc: 0.8565 - val_loss: 2.3460 - val_acc: 0.8507\n",
            "Epoch 15/20\n",
            "60/60 [==============================] - 0s 3ms/step - loss: 2.2324 - acc: 0.8584 - val_loss: 2.5161 - val_acc: 0.8388\n",
            "Epoch 16/20\n",
            "60/60 [==============================] - 0s 3ms/step - loss: 2.2449 - acc: 0.8574 - val_loss: 2.4343 - val_acc: 0.8456\n",
            "Epoch 17/20\n",
            "60/60 [==============================] - 0s 3ms/step - loss: 2.2159 - acc: 0.8596 - val_loss: 2.4104 - val_acc: 0.8471\n",
            "Epoch 18/20\n",
            "60/60 [==============================] - 0s 3ms/step - loss: 2.2051 - acc: 0.8604 - val_loss: 2.3221 - val_acc: 0.8531\n",
            "Epoch 19/20\n",
            "60/60 [==============================] - 0s 3ms/step - loss: 2.1977 - acc: 0.8606 - val_loss: 2.3482 - val_acc: 0.8512\n",
            "Epoch 20/20\n",
            "60/60 [==============================] - 0s 3ms/step - loss: 2.1700 - acc: 0.8627 - val_loss: 2.3246 - val_acc: 0.8526\n"
          ],
          "name": "stdout"
        }
      ]
    },
    {
      "cell_type": "code",
      "metadata": {
        "id": "z_qR0QCpRXnl",
        "colab": {
          "base_uri": "https://localhost:8080/",
          "height": 312
        },
        "outputId": "a68e4838-f099-4dd1-bbbf-0af06306ff08"
      },
      "source": [
        "plt.plot(training_history.history['acc'],label='Training Accuracy')\n",
        "plt.plot(training_history.history['val_acc'],label='Validation Accuracy')\n",
        "plt.title('model accuracy')\n",
        "plt.ylabel('accuracy')\n",
        "plt.xlabel('epoch')\n",
        "plt.legend()\n"
      ],
      "execution_count": null,
      "outputs": [
        {
          "output_type": "execute_result",
          "data": {
            "text/plain": [
              "<matplotlib.legend.Legend at 0x7fad841ee3c8>"
            ]
          },
          "metadata": {
            "tags": []
          },
          "execution_count": 303
        },
        {
          "output_type": "display_data",
          "data": {
            "image/png": "[encoded data removed]",
            "text/plain": [
              "<Figure size 432x288 with 1 Axes>"
            ]
          },
          "metadata": {
            "tags": []
          }
        }
      ]
    },
    {
      "cell_type": "code",
      "metadata": {
        "id": "myPxx_rGRWSW",
        "colab": {
          "base_uri": "https://localhost:8080/",
          "height": 312
        },
        "outputId": "f2821e89-7997-4a4b-e9f2-dbab2a545246"
      },
      "source": [
        "plt.plot(training_history.history['loss'],label='Training Loss')\n",
        "plt.plot(training_history.history['val_loss'],label='Validation Accuracy')\n",
        "plt.title('model loss')\n",
        "plt.ylabel('loss')\n",
        "plt.xlabel('epoch')\n",
        "plt.legend()\n"
      ],
      "execution_count": null,
      "outputs": [
        {
          "output_type": "execute_result",
          "data": {
            "text/plain": [
              "<matplotlib.legend.Legend at 0x7fad84256668>"
            ]
          },
          "metadata": {
            "tags": []
          },
          "execution_count": 304
        },
        {
          "output_type": "display_data",
          "data": {
            "image/png": "[encoded data removed]",
            "text/plain": [
              "<Figure size 432x288 with 1 Axes>"
            ]
          },
          "metadata": {
            "tags": []
          }
        }
      ]
    },
    {
      "cell_type": "markdown",
      "metadata": {
        "id": "jaittcb5J-8c"
      },
      "source": [
        "Of course the results are too bad! Since mnist is not video. We just used it to proof the concept."
      ]
    },
    {
      "cell_type": "markdown",
      "metadata": {
        "id": "-UNwezHxKJ4O"
      },
      "source": [
        "# If we wanted to have classification per frame"
      ]
    },
    {
      "cell_type": "code",
      "metadata": {
        "id": "ueEz7YukKPGG",
        "colab": {
          "base_uri": "https://localhost:8080/",
          "height": 272
        },
        "outputId": "ec250d25-8b82-47bc-ec81-87aeb7b05e70"
      },
      "source": [
        "frame_model = models.Sequential()\n",
        "frame_model.add(layers.Dense(100, activation='relu', input_shape=(28*28,)))\n",
        "#frame_model.add(layers.Conv2D(4,(2,2), input_shape=(28,28,1)))\n",
        "#frame_model.add(layers.Flatten())\n",
        "frame_model.add(layers.Dense(100, activation='relu'))\n",
        "frame_model.add(layers.Dense(10, activation='softmax'))\n",
        "print(frame_model.summary())\n",
        "\n"
      ],
      "execution_count": null,
      "outputs": [
        {
          "output_type": "stream",
          "text": [
            "Model: \"sequential_21\"\n",
            "_________________________________________________________________\n",
            "Layer (type)                 Output Shape              Param #   \n",
            "=================================================================\n",
            "dense_63 (Dense)             (None, 100)               78500     \n",
            "_________________________________________________________________\n",
            "dense_64 (Dense)             (None, 100)               10100     \n",
            "_________________________________________________________________\n",
            "dense_65 (Dense)             (None, 10)                1010      \n",
            "=================================================================\n",
            "Total params: 89,610\n",
            "Trainable params: 89,610\n",
            "Non-trainable params: 0\n",
            "_________________________________________________________________\n",
            "None\n"
          ],
          "name": "stdout"
        }
      ]
    },
    {
      "cell_type": "code",
      "metadata": {
        "id": "PskOwIjkgock"
      },
      "source": [],
      "execution_count": null,
      "outputs": []
    },
    {
      "cell_type": "markdown",
      "metadata": {
        "id": "tJm2GYLfLwBc"
      },
      "source": [
        "In this case, we have the same output shape as before for every frame"
      ]
    },
    {
      "cell_type": "code",
      "metadata": {
        "id": "YP3jZW40KZDB"
      },
      "source": [
        "#model = models.Sequential()\n",
        "#model.add(layers.TimeDistributed(frame_model, input_shape=(10, 28*28,1)))\n",
        "#model.summary()"
      ],
      "execution_count": null,
      "outputs": []
    },
    {
      "cell_type": "code",
      "metadata": {
        "id": "Xc5KIOxwgqB6",
        "colab": {
          "base_uri": "https://localhost:8080/",
          "height": 369
        },
        "outputId": "1ed4e237-50a4-4077-9cab-d07a35f867be"
      },
      "source": [
        "plot_model(frame_model, to_file='model.png')"
      ],
      "execution_count": null,
      "outputs": [
        {
          "output_type": "execute_result",
          "data": {
            "image/png": "[encoded data removed]",
            "text/plain": [
              "<IPython.core.display.Image object>"
            ]
          },
          "metadata": {
            "tags": []
          },
          "execution_count": 307
        }
      ]
    },
    {
      "cell_type": "markdown",
      "metadata": {
        "id": "Y0PzZ5aoL98R"
      },
      "source": [
        "The number of parameters remain the same, since we just repeat the same CNN\n",
        "\n"
      ]
    },
    {
      "cell_type": "code",
      "metadata": {
        "id": "-FGigkccLIPP"
      },
      "source": [
        "from keras.datasets import mnist\n",
        "(train_images, train_labels), (test_images, test_labels) = mnist.load_data()\n",
        "(train_images, train_labels), (test_images, test_labels) = (np.reshape(train_images, (60000,28*28)), np.reshape(train_labels, (60000))), (np.reshape(test_images, (10000,28*28)), np.reshape(test_labels, (10000)))"
      ],
      "execution_count": null,
      "outputs": []
    },
    {
      "cell_type": "code",
      "metadata": {
        "id": "Me4Jt-hJLKXj",
        "colab": {
          "base_uri": "https://localhost:8080/",
          "height": 34
        },
        "outputId": "6264ed59-8f30-4741-ce66-c493389a02c5"
      },
      "source": [
        "train_images.shape"
      ],
      "execution_count": null,
      "outputs": [
        {
          "output_type": "execute_result",
          "data": {
            "text/plain": [
              "(60000, 784)"
            ]
          },
          "metadata": {
            "tags": []
          },
          "execution_count": 309
        }
      ]
    },
    {
      "cell_type": "code",
      "metadata": {
        "id": "OtmNgevULMb6",
        "colab": {
          "base_uri": "https://localhost:8080/",
          "height": 34
        },
        "outputId": "ba78b25e-a2a5-4ac5-f44e-e0ca6f97c057"
      },
      "source": [
        "train_labels.shape"
      ],
      "execution_count": null,
      "outputs": [
        {
          "output_type": "execute_result",
          "data": {
            "text/plain": [
              "(60000,)"
            ]
          },
          "metadata": {
            "tags": []
          },
          "execution_count": 310
        }
      ]
    },
    {
      "cell_type": "code",
      "metadata": {
        "id": "e8HF20U_LQ3D"
      },
      "source": [
        "frame_model.compile(optimizer='rmsprop',loss='sparse_categorical_crossentropy', metrics=['acc'])"
      ],
      "execution_count": null,
      "outputs": []
    },
    {
      "cell_type": "code",
      "metadata": {
        "id": "slO2hMDcLS3e",
        "colab": {
          "base_uri": "https://localhost:8080/",
          "height": 697
        },
        "outputId": "ddb93715-7c8b-4c2b-cd35-89a850183c9b"
      },
      "source": [
        "\n",
        "training_history=frame_model.fit(train_images, train_labels, validation_data=(test_images, test_labels), epochs=20, batch_size=100)"
      ],
      "execution_count": null,
      "outputs": [
        {
          "output_type": "stream",
          "text": [
            "Epoch 1/20\n",
            "600/600 [==============================] - 1s 2ms/step - loss: 2.4365 - acc: 0.8620 - val_loss: 0.5096 - val_acc: 0.9247\n",
            "Epoch 2/20\n",
            "600/600 [==============================] - 1s 2ms/step - loss: 0.4055 - acc: 0.9291 - val_loss: 0.3012 - val_acc: 0.9381\n",
            "Epoch 3/20\n",
            "600/600 [==============================] - 1s 2ms/step - loss: 0.2401 - acc: 0.9464 - val_loss: 0.2305 - val_acc: 0.9512\n",
            "Epoch 4/20\n",
            "600/600 [==============================] - 1s 2ms/step - loss: 0.1881 - acc: 0.9562 - val_loss: 0.2460 - val_acc: 0.9531\n",
            "Epoch 5/20\n",
            "600/600 [==============================] - 1s 2ms/step - loss: 0.1616 - acc: 0.9624 - val_loss: 0.2647 - val_acc: 0.9556\n",
            "Epoch 6/20\n",
            "600/600 [==============================] - 1s 2ms/step - loss: 0.1425 - acc: 0.9668 - val_loss: 0.2478 - val_acc: 0.9561\n",
            "Epoch 7/20\n",
            "600/600 [==============================] - 1s 2ms/step - loss: 0.1333 - acc: 0.9688 - val_loss: 0.2496 - val_acc: 0.9597\n",
            "Epoch 8/20\n",
            "600/600 [==============================] - 1s 2ms/step - loss: 0.1279 - acc: 0.9714 - val_loss: 0.2370 - val_acc: 0.9582\n",
            "Epoch 9/20\n",
            "600/600 [==============================] - 1s 2ms/step - loss: 0.1176 - acc: 0.9726 - val_loss: 0.1973 - val_acc: 0.9676\n",
            "Epoch 10/20\n",
            "600/600 [==============================] - 1s 2ms/step - loss: 0.1220 - acc: 0.9746 - val_loss: 0.2546 - val_acc: 0.9600\n",
            "Epoch 11/20\n",
            "600/600 [==============================] - 1s 2ms/step - loss: 0.1137 - acc: 0.9748 - val_loss: 0.3712 - val_acc: 0.9604\n",
            "Epoch 12/20\n",
            "600/600 [==============================] - 1s 2ms/step - loss: 0.1121 - acc: 0.9762 - val_loss: 0.2581 - val_acc: 0.9660\n",
            "Epoch 13/20\n",
            "600/600 [==============================] - 1s 2ms/step - loss: 0.1095 - acc: 0.9771 - val_loss: 0.3106 - val_acc: 0.9639\n",
            "Epoch 14/20\n",
            "600/600 [==============================] - 1s 2ms/step - loss: 0.1029 - acc: 0.9790 - val_loss: 0.2955 - val_acc: 0.9617\n",
            "Epoch 15/20\n",
            "600/600 [==============================] - 1s 2ms/step - loss: 0.1039 - acc: 0.9784 - val_loss: 0.3290 - val_acc: 0.9615\n",
            "Epoch 16/20\n",
            "600/600 [==============================] - 1s 2ms/step - loss: 0.0962 - acc: 0.9804 - val_loss: 0.3594 - val_acc: 0.9668\n",
            "Epoch 17/20\n",
            "600/600 [==============================] - 1s 2ms/step - loss: 0.0904 - acc: 0.9807 - val_loss: 0.3738 - val_acc: 0.9679\n",
            "Epoch 18/20\n",
            "600/600 [==============================] - 1s 2ms/step - loss: 0.0933 - acc: 0.9819 - val_loss: 0.3172 - val_acc: 0.9681\n",
            "Epoch 19/20\n",
            "600/600 [==============================] - 1s 2ms/step - loss: 0.0929 - acc: 0.9819 - val_loss: 0.3737 - val_acc: 0.9667\n",
            "Epoch 20/20\n",
            "600/600 [==============================] - 1s 2ms/step - loss: 0.0886 - acc: 0.9833 - val_loss: 0.3698 - val_acc: 0.9690\n"
          ],
          "name": "stdout"
        }
      ]
    },
    {
      "cell_type": "code",
      "metadata": {
        "id": "vM-KwAGhRvmJ",
        "colab": {
          "base_uri": "https://localhost:8080/",
          "height": 312
        },
        "outputId": "2d46a3db-cac5-422c-c2a6-09f994fac5e4"
      },
      "source": [
        "plt.plot(training_history.history['acc'],label='Training Accuracy')\n",
        "plt.plot(training_history.history['val_acc'],label='Validation Accuracy')\n",
        "plt.title('model accuracy')\n",
        "plt.ylabel('accuracy')\n",
        "plt.xlabel('epoch')\n",
        "plt.legend()\n"
      ],
      "execution_count": null,
      "outputs": [
        {
          "output_type": "execute_result",
          "data": {
            "text/plain": [
              "<matplotlib.legend.Legend at 0x7fad82ae8b38>"
            ]
          },
          "metadata": {
            "tags": []
          },
          "execution_count": 313
        },
        {
          "output_type": "display_data",
          "data": {
            "image/png": "[encoded data removed]",
            "text/plain": [
              "<Figure size 432x288 with 1 Axes>"
            ]
          },
          "metadata": {
            "tags": []
          }
        }
      ]
    },
    {
      "cell_type": "code",
      "metadata": {
        "id": "_rfCK4jhRvrx",
        "colab": {
          "base_uri": "https://localhost:8080/",
          "height": 312
        },
        "outputId": "8fd20c29-b567-4deb-98eb-254fe475b9e5"
      },
      "source": [
        "plt.plot(training_history.history['loss'],label='Training Loss')\n",
        "plt.plot(training_history.history['val_loss'],label='Validation Accuracy')\n",
        "plt.title('model loss')\n",
        "plt.ylabel('loss')\n",
        "plt.xlabel('epoch')\n",
        "plt.legend()\n"
      ],
      "execution_count": null,
      "outputs": [
        {
          "output_type": "execute_result",
          "data": {
            "text/plain": [
              "<matplotlib.legend.Legend at 0x7fad81cd9198>"
            ]
          },
          "metadata": {
            "tags": []
          },
          "execution_count": 314
        },
        {
          "output_type": "display_data",
          "data": {
            "image/png": "[encoded data removed]",
            "text/plain": [
              "<Figure size 432x288 with 1 Axes>"
            ]
          },
          "metadata": {
            "tags": []
          }
        }
      ]
    }
  ]
}