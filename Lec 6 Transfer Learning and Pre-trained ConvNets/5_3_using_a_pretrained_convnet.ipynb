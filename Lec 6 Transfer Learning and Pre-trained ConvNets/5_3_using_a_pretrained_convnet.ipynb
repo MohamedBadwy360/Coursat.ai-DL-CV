{
  "nbformat": 4,
  "nbformat_minor": 0,
  "metadata": {
    "colab": {
      "provenance": []
    },
    "kernelspec": {
      "display_name": "Python 3",
      "language": "python",
      "name": "python3"
    },
    "accelerator": "GPU",
    "gpuClass": "standard"
  },
  "cells": [
    {
      "cell_type": "code",
      "metadata": {
        "id": "4J7v0QjMMbvK",
        "colab": {
          "base_uri": "https://localhost:8080/",
          "height": 35
        },
        "outputId": "798dfadf-8cd6-4310-a59f-96a97bc79985"
      },
      "source": [
        "import tensorflow.keras as keras\n",
        "keras.__version__"
      ],
      "execution_count": null,
      "outputs": [
        {
          "output_type": "execute_result",
          "data": {
            "text/plain": [
              "'2.8.0'"
            ],
            "application/vnd.google.colaboratory.intrinsic+json": {
              "type": "string"
            }
          },
          "metadata": {},
          "execution_count": 1
        }
      ]
    },
    {
      "cell_type": "markdown",
      "metadata": {
        "id": "WpIwI8LcMbvR"
      },
      "source": [
        "# Using a pre-trained convnet\n",
        "\n",
        "This notebook contains the code sample found in Chapter 5, Section 3 of [Deep Learning with Python](https://www.manning.com/books/deep-learning-with-python?a_aid=keras&a_bid=76564dff). Note that the original text features far more content, in particular further explanations and figures: in this notebook, you will only find source code and related comments.\n",
        "\n",
        "----\n",
        "# When to use transfer learning?\n",
        "A common and highly effective approach to deep learning on ___small image datasets___ is to leverage a __pre-trained network__.\n",
        "\n",
        "A ___pre-trained network___  is simply a saved network previously trained on a large dataset, typically on a large-scale image classification task.\n",
        "\n",
        "If this original  dataset is large enough and general enough, then the spatial feature hierarchy learned by the pre-trained network can effectively act as a  generic model of our visual world, and hence its features can prove useful for many different computer vision problems, even though these new problems might involve completely different classes from those of the original task. For instance, one might train a network on ImageNet (where classes are mostly animals and everyday objects) and then re-purpose this trained network for something as remote as identifying furniture items in images.\n",
        "\n",
        "Such portability of learned features across different problems is a key advantage of deep learning compared to many older shallow learning approaches, and it makes deep learning very effective for small-data problems.\n",
        "\n",
        "In our case, we will consider a large convnet trained on the ImageNet dataset (1.4 million labeled images and 1000 different classes). ImageNet contains many animal classes, including different species of cats and dogs, and we can thus expect to perform very well on our cat vs. dog classification problem.\n",
        "\n",
        "We will use the _VGG16 architecture_, developed by Karen Simonyan and Andrew Zisserman in 2014, a simple and widely used convnet architecture for ImageNet. Although it is a bit of an older model, far from the current state of the art and somewhat heavier than many other recent models, we chose it because its architecture is similar to what you are already familiar with, and easy to understand without introducing any new concepts. This may be your first encounter with one of these cutesie model names -- VGG, ResNet, Inception, Inception-ResNet, Xception... you will get used to them, as they will come up frequently if you keep doing deep learning for computer vision.\n",
        "\n",
        "\n",
        "![trad_ml.png](http://ruder.io/content/images/2017/03/traditional_ml_setup.png)\n",
        "\n",
        "http://ruder.io/transfer-learning/\n"
      ]
    },
    {
      "cell_type": "markdown",
      "metadata": {
        "id": "Mi3cidDoMbvS"
      },
      "source": [
        "![transfer_learning.png](http://ruder.io/content/images/2017/03/transfer_learning_setup.png)\n",
        "http://ruder.io/transfer-learning/"
      ]
    },
    {
      "cell_type": "markdown",
      "metadata": {
        "id": "qQd4Cu6tMbvT"
      },
      "source": [
        "# Transfer Learning Scenarios\n",
        "\n",
        "The three major Transfer Learning scenarios look as follows:\n",
        "\n",
        "1- ___ConvNet as fixed feature extractor___.\n",
        "\n",
        "Take a ConvNet pretrained on ImageNet, remove the last fully-connected layer (this layer’s outputs are the 1000 class scores for a different task like ImageNet), then treat the rest of the ConvNet as a fixed feature extractor for the new dataset. In an AlexNet, this would compute a 4096-D vector for every image that contains the activations of the hidden layer immediately before the classifier. We call these features __CNN codes__.\n",
        "\n",
        "It is important for performance that these codes are ReLUd (i.e. thresholded at zero) if they were also thresholded during the training of the ConvNet on ImageNet (as is usually the case). Once you extract the 4096-D codes for all images, train a linear classifier (e.g. Linear SVM or Softmax classifier) for the new dataset.\n",
        "\n",
        "2- ___Fine-tuning the ConvNet___.\n",
        "\n",
        "The second strategy is to not only replace and retrain the classifier on top of the ConvNet on the new dataset, but to also fine-tune the weights of the pretrained network by continuing the backpropagation.\n",
        "\n",
        "It is possible to fine-tune all the layers of the ConvNet, or it’s possible to keep some of the earlier layers fixed (due to overfitting concerns) and only fine-tune some higher-level portion of the network.\n",
        "\n",
        "_This is motivated by the observation that the earlier features of a ConvNet contain more generic features (e.g. edge detectors or color blob detectors) that should be useful to many tasks, but later layers of the ConvNet becomes progressively more specific to the details of the classes contained in the original dataset._\n",
        "\n",
        "\n",
        "3- ___Pretrained models___.\n",
        "\n",
        "Since modern ConvNets take 2-3 weeks to train across multiple GPUs on ImageNet, it is common to see people release their final ConvNet checkpoints for the benefit of others who can use the networks for fine-tuning. For example, the Caffe library has a Model Zoo where people share their network weights.\n",
        "\n",
        "The 3rd type is the most obvious, but the least beneficial, as you rarely find the exact model for the exact inputs and outputs (task) you want.\n",
        "\n",
        "We will focus on scenarios 1 and 2."
      ]
    },
    {
      "cell_type": "markdown",
      "metadata": {
        "id": "MreDbayd-jzw"
      },
      "source": [
        "![image.png](data:image/png;base64,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)"
      ]
    },
    {
      "cell_type": "markdown",
      "metadata": {
        "id": "cqcOg8x4MbvU"
      },
      "source": [
        "# When and how to fine-tune?\n",
        "\n",
        "_How do you decide what type of transfer learning you should perform on a new dataset?_\n",
        "\n",
        "Specifically we need to pick two actions:\n",
        "\n",
        "1- Re-use how many layers from the source to target domain (how big is the convbase)?\n",
        "\n",
        "2- Fine tune or not the convbase?\n",
        "\n",
        "This is a function of several factors, but the two most important ones:\n",
        "\n",
        "__A- are the size of the new dataset (small or big), and__\n",
        "\n",
        "__B- its similarity to the original dataset__\n",
        "(e.g. ImageNet-like in terms of the content of images and the classes, or very different, such as microscope images).\n",
        "\n",
        "\n",
        "\n",
        "Keeping in mind that ConvNet features are more generic in early layers and more ___original-dataset-specific___ in later layers, here are some common rules of thumb for navigating the 4 major scenarios:\n",
        "\n",
        "1- ___New dataset is small and similar to original dataset___. Since the data is small, it is not a good idea to fine-tune the ConvNet due to overfitting concerns (big model and small data). Since the data is similar to the original data, we expect higher-level features in the ConvNet to be relevant to this dataset as well.\n",
        "\n",
        "_Hence, the best idea might be to train a linear classifier on the CNN codes._\n",
        "\n",
        "__Max Reuse, No Fine-tune__\n",
        "\n",
        "2- ___New dataset is large and similar to the original dataset___.\n",
        "\n",
        "Since we have more data, we can have more confidence that we won’t overfit if we were to try to _fine-tune through the full network._\n",
        "\n",
        "__Max Reuse, Fine-tune__\n",
        "\n",
        "3- ___New dataset is small but very different from the original dataset___. Since the data is small, it is likely best to only train a linear classifier. Since the dataset is very different, it might not be best to train the classifier form the top of the network, which contains more dataset-specific features.\n",
        "\n",
        "Instead, it might work better to _train the classifier from activations somewhere earlier in the network._\n",
        "\n",
        "__Min Reuse, No Fine-tune__\n",
        "\n",
        "4- ___New dataset is large and very different from the original dataset___. Since the dataset is very large, we may expect that we can afford to train a ConvNet from scratch. However, in practice it is very often still beneficial to initialize with weights from a pretrained model.\n",
        "\n",
        "_In this case, we would have enough data and confidence to fine-tune through the entire network._\n",
        "\n",
        "__NoReuse, Fine-tune__\n",
        "__No need to transfer__"
      ]
    },
    {
      "cell_type": "markdown",
      "metadata": {
        "id": "tp1M6d-U-YGh"
      },
      "source": [
        "![image.png](data:image/png;base64,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)"
      ]
    },
    {
      "cell_type": "markdown",
      "metadata": {
        "id": "6j82k1FUMbvV"
      },
      "source": [
        "## Practical advice\n",
        "\n",
        "_There are a few additional things to keep in mind when performing Transfer Learning:_\n",
        "\n",
        "- _Constraints from pretrained models._\n",
        "\n",
        "Note that if you wish to use a pretrained network, you may be slightly constrained in terms of the architecture you can use for your new dataset. For example, _you can’t arbitrarily take out Conv layers from the pretrained network_.\n",
        "\n",
        "However, some changes are straight-forward: Due to parameter sharing, you can easily run a pretrained network on _images of different spatial size_.\n",
        "\n",
        "This is clearly evident in the case of Conv/Pool layers because their forward function is independent of the input volume spatial size (as long as the strides “fit”).\n",
        "\n",
        "__Convert Dense to Conv layers__\n",
        "In case of _FC layers_, this still holds true _because FC layers can be converted to a Convolutional Layer:_ For example, in an AlexNet, the final pooling volume before the first FC layer is of size [6x6x512]. _Therefore, the FC layer looking at this volume is equivalent to having a Convolutional Layer that has receptive field size 6x6, and is applied with padding of 0._ See http://cs231n.github.io/convolutional-networks/#convert\n",
        "\n",
        "(6x6x512-->flatten-->Dense(4096) == (6x6x512 * 6x6x4096 = 1x1x4096)\n",
        "\n",
        "- _Learning rates._\n",
        "\n",
        "It’s common to use a _smaller learning rate for ConvNet weights that are being fine-tuned_, in comparison to the (randomly-initialized) weights for the new linear classifier that computes the class scores of your new dataset.\n",
        "\n",
        "This is _because we expect that the ConvNet weights are relatively good, so we don’t wish to distort them too quickly and too much (especially while the new Linear Classifier above them is being trained from random initialization)._\n",
        "\n",
        "- _1x1 Conv_\n",
        "It might not be directly related to transfer learning, but 1x1 conv is a special operation that helps in reducing the number of feature maps, i.e. the depth of the feature maps.\n",
        "The 1x1 conv works as a per feature map weighted average to produce bigger or small number of input features maps as you want. A 1x1xout_maps shall produce the same input size (LxW) of the input feature maps, but with the required out_maps number, where every input feature map is multiplied by a weight, and the result is the weighted sum of all the input maps, and every out_map has such weights (cube)"
      ]
    },
    {
      "cell_type": "markdown",
      "metadata": {
        "id": "lUlAv88kMbvb"
      },
      "source": [
        "## Feature extraction\n",
        "\n",
        "Feature extraction consists of using the representations learned by a previous network to extract interesting features from new samples.\n",
        "These features are then run through a new classifier, which is trained from scratch.\n",
        "\n",
        "As we saw previously, convnets used for image classification comprise two parts: they start with a series of pooling and convolution\n",
        "layers, and they end with a densely-connected classifier. The first part is called the \"convolutional base\" of the model. In the case of\n",
        "convnets, \"feature extraction\" will simply consist of taking the convolutional base of a previously-trained network, running the new data\n",
        "through it, and training a new classifier on top of the output.\n",
        "\n",
        "![swapping FC classifiers](https://s3.amazonaws.com/book.keras.io/img/ch5/swapping_fc_classifier.png)\n",
        "\n",
        "___Why only reuse the convolutional base? Could we reuse the densely-connected classifier as well___\n",
        "\n",
        "In general, it should be avoided. The reason is simply that the representations learned by the convolutional base are likely to be more ___generic and therefore more reusable___: the feature maps of a convnet are presence maps of generic concepts over a picture, which is likely to be useful regardless of the computer vision problem at hand. On the other end, the representations learned by the classifier will necessarily be ___very specific___ to the set of classes that the model was trained on -- they will only contain information about the presence probability of this or that class in the entire picture.\n",
        "\n",
        "Additionally, representations found in _densely-connected layers_ no longer contain any information about _where_ objects are\n",
        "located in the input image: these layers get rid of the notion of space, whereas the object location is still described by convolutional feature maps. _For problems where object location matters, densely-connected features would be largely useless._\n",
        "\n",
        "Note that the _level of generality (and therefore reusability)_ of the representations extracted by specific convolution layers depends on the _depth of the layer in the model_. Layers that come earlier in the model extract local, highly generic feature maps (such as visual edges, colors, and textures), while layers higher-up extract more abstract concepts (such as \"cat ear\" or \"dog eye\"). So if your new dataset differs a lot from the dataset that the original model was trained on, you may be better off using only the first few layers of the model to do feature extraction, rather than using the entire convolutional base.\n",
        "\n",
        "In our case, since the ImageNet class set did contain multiple dog and cat classes, it is likely that it would be beneficial to reuse the information contained in the densely-connected layers of the original model. However, we will chose not to, in order to cover the more general case where the class set of the new problem does not overlap with the class set of the original model."
      ]
    },
    {
      "cell_type": "markdown",
      "metadata": {
        "id": "8XuZbeKVMbvc"
      },
      "source": [
        "Let's put this in practice by using the convolutional base of the VGG16 network, trained on ImageNet, to extract interesting features from\n",
        "our cat and dog images, and then training a cat vs. dog classifier on top of these features.\n",
        "\n",
        "The VGG16 model, among others, comes pre-packaged with Keras. You can import it from the `keras.applications` module. Here's the list of\n",
        "image classification models (all pre-trained on the ImageNet dataset) that are available as part of `keras.applications`:\n",
        "\n",
        "* Xception\n",
        "* InceptionV3\n",
        "* ResNet50\n",
        "* VGG16\n",
        "* VGG19\n",
        "* MobileNet\n",
        "\n",
        "Let's instantiate the VGG16 model:"
      ]
    },
    {
      "cell_type": "code",
      "metadata": {
        "id": "TjCYtkwyMbvd"
      },
      "source": [
        "from tensorflow.keras.applications import VGG16\n",
        "\n",
        "conv_base = VGG16(weights='imagenet',\n",
        "                  include_top=False,\n",
        "                  input_shape=(150, 150, 3))"
      ],
      "execution_count": null,
      "outputs": []
    },
    {
      "cell_type": "markdown",
      "metadata": {
        "id": "NKsO-q4JMbvl"
      },
      "source": [
        "We passed three arguments to the constructor:\n",
        "\n",
        "* `weights`, to specify which weight checkpoint to initialize the model from\n",
        "* `include_top`, which refers to including or not the densely-connected classifier on top of the network. By default, this\n",
        "densely-connected classifier would correspond to the 1000 classes from ImageNet. Since we intend to use our own densely-connected\n",
        "classifier (with only two classes, cat and dog), we don't need to include it.\n",
        "* `input_shape`, the shape of the image tensors that we will feed to the network. This argument is purely optional: if we don't pass it,\n",
        "then the network will be able to process inputs of any size.\n",
        "\n",
        "Here's the detail of the architecture of the VGG16 convolutional base: it's very similar to the simple convnets that you are already\n",
        "familiar with."
      ]
    },
    {
      "cell_type": "code",
      "metadata": {
        "id": "LgNcG4qeMbvm",
        "colab": {
          "base_uri": "https://localhost:8080/"
        },
        "outputId": "d522ac34-94e3-419c-d9bb-31a236936fee"
      },
      "source": [
        "conv_base.summary()"
      ],
      "execution_count": null,
      "outputs": [
        {
          "output_type": "stream",
          "name": "stdout",
          "text": [
            "Model: \"vgg16\"\n",
            "_________________________________________________________________\n",
            " Layer (type)                Output Shape              Param #   \n",
            "=================================================================\n",
            " input_1 (InputLayer)        [(None, 150, 150, 3)]     0         \n",
            "                                                                 \n",
            " block1_conv1 (Conv2D)       (None, 150, 150, 64)      1792      \n",
            "                                                                 \n",
            " block1_conv2 (Conv2D)       (None, 150, 150, 64)      36928     \n",
            "                                                                 \n",
            " block1_pool (MaxPooling2D)  (None, 75, 75, 64)        0         \n",
            "                                                                 \n",
            " block2_conv1 (Conv2D)       (None, 75, 75, 128)       73856     \n",
            "                                                                 \n",
            " block2_conv2 (Conv2D)       (None, 75, 75, 128)       147584    \n",
            "                                                                 \n",
            " block2_pool (MaxPooling2D)  (None, 37, 37, 128)       0         \n",
            "                                                                 \n",
            " block3_conv1 (Conv2D)       (None, 37, 37, 256)       295168    \n",
            "                                                                 \n",
            " block3_conv2 (Conv2D)       (None, 37, 37, 256)       590080    \n",
            "                                                                 \n",
            " block3_conv3 (Conv2D)       (None, 37, 37, 256)       590080    \n",
            "                                                                 \n",
            " block3_pool (MaxPooling2D)  (None, 18, 18, 256)       0         \n",
            "                                                                 \n",
            " block4_conv1 (Conv2D)       (None, 18, 18, 512)       1180160   \n",
            "                                                                 \n",
            " block4_conv2 (Conv2D)       (None, 18, 18, 512)       2359808   \n",
            "                                                                 \n",
            " block4_conv3 (Conv2D)       (None, 18, 18, 512)       2359808   \n",
            "                                                                 \n",
            " block4_pool (MaxPooling2D)  (None, 9, 9, 512)         0         \n",
            "                                                                 \n",
            " block5_conv1 (Conv2D)       (None, 9, 9, 512)         2359808   \n",
            "                                                                 \n",
            " block5_conv2 (Conv2D)       (None, 9, 9, 512)         2359808   \n",
            "                                                                 \n",
            " block5_conv3 (Conv2D)       (None, 9, 9, 512)         2359808   \n",
            "                                                                 \n",
            " block5_pool (MaxPooling2D)  (None, 4, 4, 512)         0         \n",
            "                                                                 \n",
            "=================================================================\n",
            "Total params: 14,714,688\n",
            "Trainable params: 14,714,688\n",
            "Non-trainable params: 0\n",
            "_________________________________________________________________\n"
          ]
        }
      ]
    },
    {
      "cell_type": "markdown",
      "metadata": {
        "id": "CjDqcP87Mbvu"
      },
      "source": [
        "The final feature map has shape `(4, 4, 512)`. That's the feature on top of which we will stick a densely-connected classifier.\n",
        "\n",
        "At this point, there are two ways we could proceed:\n",
        "\n",
        "\n",
        "__1) Offline__ Running the convolutional base over our dataset, _recording its output to a Numpy array on disk_, then using this data as input to a standalone densely-connected classifier similar to those you have seen in the first chapters of this book.\n",
        "\n",
        "_This solution is very fast (fast training because the expensive conv operation is not run every step of backprop, but slow in saving the data for sure) and cheap to run_, because it only requires running the convolutional base once for every input image, and the convolutional base is by far the most expensive part of the pipeline.\n",
        "\n",
        "_However, for the exact same reason, this technique would not allow us to leverage data augmentation at all (because you already work at the features level)._\n",
        "But you can think of another way to do data augmentation in the offline mode, which is to apply image transformations on the _static_ data on disk, and then extract features for those.\n",
        "However, doing so, will limit the amount of augmented data, since it's done once at the beginning, versus doing augmentation at every step of the trainig, so getting new uncorrelated samples with every step.\n",
        "Note that: the offline data augmentation is not supported in Keras, since the ImageGenerator class is called within fit_generator, so must be online.\n",
        "\n",
        "___Advantages___:\n",
        "- Fast training (no conv during training)\n",
        "\n",
        "___Disadvantages___:\n",
        "- Augmentation not possible in Keras (not even offline augmentation)\n",
        "- Offline autmentation limits the amount of generated data unlike the online mode. There might be correlations as well.\n",
        "\n",
        "\n",
        "\n",
        "__2) Online__ Extending the model we have (`conv_base`) by _adding `Dense` layers on top, and running the whole thing end-to-end on the input data._\n",
        "\n",
        "_This allows us to use data augmentation_, because every input image is going through the convolutional base every time it is seen by the model.\n",
        "\n",
        "_However, for this same reason, this technique is far more expensive than the first one._\n",
        "\n",
        "___Advantages___:\n",
        "- Online augmentation provides unlimited, and uncorrelated samples, with every training step.\n",
        "\n",
        "\n",
        "___Disadvantages___:\n",
        "- Slow training\n",
        "\n",
        "\n",
        "__In both cases, the conv_base is not updated during training__.\n",
        "The main difference between the 2 approaches is __data augmentation__. Remember that, the data generator is using _yield_, which means, it generates new samples on the fly during training. On one hand, this enables data augmentation in training time. On the other hand its expensive, as we need to run the conv_base during the training steps (conv is expensive).\n",
        "\n",
        "In theory, it's possible to augment the data statically (pre-generated), and use approach 1. But we will have limited data, unlike the generation on the fly approach. However, in Keras, we have to use fit_generator with the ImageDataGenerator, which means it must be gnerated on the fly using _yield_, __that's why we cannot use data augmentation with the first approach.__\n",
        "\n",
        "We will cover both techniques. Let's walk through the code required to set-up the first one: recording the output of `conv_base` on our data and using these outputs as inputs to a new model.\n",
        "\n",
        "__FAST FEATURE EXTRACTION WITHOUT DATA AUGMENTATION__\n",
        "\n",
        "We will start by simply running instances of the previously-introduced `ImageDataGenerator` to extract images as Numpy arrays as well as their labels. We will extract features from these images simply by calling the `predict` method of the `conv_base` model."
      ]
    },
    {
      "cell_type": "code",
      "metadata": {
        "id": "cgKRsV9nE30M"
      },
      "source": [],
      "execution_count": null,
      "outputs": []
    },
    {
      "cell_type": "code",
      "metadata": {
        "id": "kUkLDdpHvs-M",
        "colab": {
          "base_uri": "https://localhost:8080/"
        },
        "outputId": "42332e0e-8760-4d77-8802-3b2922dc8730"
      },
      "source": [
        "from google.colab import drive\n",
        "drive.mount('/content/gdrive')"
      ],
      "execution_count": null,
      "outputs": [
        {
          "output_type": "stream",
          "name": "stdout",
          "text": [
            "Drive already mounted at /content/gdrive; to attempt to forcibly remount, call drive.mount(\"/content/gdrive\", force_remount=True).\n"
          ]
        }
      ]
    },
    {
      "cell_type": "code",
      "metadata": {
        "id": "R3nU76mcviq6"
      },
      "source": [
        "from getpass import getpass\n",
        "import os\n",
        "user = 'ahmadelsallab'\n",
        "key = 'c4ecfbcf6c13f384553aa4bd95c11200'\n",
        "\n",
        "if '.kaggle' not in os.listdir('/root'):\n",
        "    !mkdir ~/.kaggle\n",
        "!touch /root/.kaggle/kaggle.json\n",
        "!chmod 666 /root/.kaggle/kaggle.json\n",
        "with open('/root/.kaggle/kaggle.json', 'w') as f:\n",
        "    f.write('{\"username\":\"%s\",\"key\":\"%s\"}' % (user, key))\n",
        "!chmod 600 /root/.kaggle/kaggle.json\n",
        "\n",
        "\n",
        "!kaggle competitions download -c dogs-vs-cats\n",
        "!chmod 777 *\n",
        "!unzip dogs-vs-cats.zip\n",
        "!unzip train.zip"
      ],
      "execution_count": null,
      "outputs": []
    },
    {
      "cell_type": "code",
      "metadata": {
        "id": "-qv0mPKGWR-a"
      },
      "source": [
        "import os\n",
        "import numpy as np\n",
        "import os, shutil\n",
        "\n",
        "original_dataset_dir = 'train'\n",
        "\n",
        "# The directory where we will\n",
        "# store our smaller dataset\n",
        "base_dir = '/cats_and_dogs_small'\n",
        "try:\n",
        "  os.mkdir(base_dir)\n",
        "except:\n",
        "  pass\n",
        "\n",
        "# Directories for our training,\n",
        "# validation and test splits\n",
        "train_dir = os.path.join(base_dir, 'train')\n",
        "try:\n",
        "  os.mkdir(train_dir)\n",
        "except:\n",
        "  pass\n",
        "validation_dir = os.path.join(base_dir, 'validation')\n",
        "try:\n",
        "  os.mkdir(validation_dir)\n",
        "except:\n",
        "  pass\n",
        "test_dir = os.path.join(base_dir, 'test')\n",
        "try:\n",
        "  os.mkdir(test_dir)\n",
        "except:\n",
        "  pass\n",
        "\n",
        "# Directory with our training cat pictures\n",
        "train_cats_dir = os.path.join(train_dir, 'cats')\n",
        "try:\n",
        "  os.mkdir(train_cats_dir)\n",
        "except:\n",
        "  pass\n",
        "\n",
        "# Directory with our training dog pictures\n",
        "train_dogs_dir = os.path.join(train_dir, 'dogs')\n",
        "try:\n",
        "  os.mkdir(train_dogs_dir)\n",
        "except:\n",
        "  pass\n",
        "\n",
        "# Directory with our validation cat pictures\n",
        "validation_cats_dir = os.path.join(validation_dir, 'cats')\n",
        "try:\n",
        "  os.mkdir(validation_cats_dir)\n",
        "except:\n",
        "  pass\n",
        "\n",
        "# Directory with our validation dog pictures\n",
        "validation_dogs_dir = os.path.join(validation_dir, 'dogs')\n",
        "try:\n",
        "  os.mkdir(validation_dogs_dir)\n",
        "except:\n",
        "  pass\n",
        "\n",
        "# Directory with our validation cat pictures\n",
        "test_cats_dir = os.path.join(test_dir, 'cats')\n",
        "try:\n",
        "  os.mkdir(test_cats_dir)\n",
        "except:\n",
        "  pass\n",
        "\n",
        "# Directory with our validation dog pictures\n",
        "test_dogs_dir = os.path.join(test_dir, 'dogs')\n",
        "try:\n",
        "  os.mkdir(test_dogs_dir)\n",
        "except:\n",
        "  pass\n",
        "\n",
        "# Copy first 1000 cat images to train_cats_dir\n",
        "fnames = ['cat.{}.jpg'.format(i) for i in range(1000)]\n",
        "for fname in fnames:\n",
        "    src = os.path.join(original_dataset_dir, fname)\n",
        "    dst = os.path.join(train_cats_dir, fname)\n",
        "    shutil.copyfile(src, dst)\n",
        "\n",
        "# Copy next 500 cat images to validation_cats_dir\n",
        "fnames = ['cat.{}.jpg'.format(i) for i in range(1000, 1500)]\n",
        "for fname in fnames:\n",
        "    src = os.path.join(original_dataset_dir, fname)\n",
        "    dst = os.path.join(validation_cats_dir, fname)\n",
        "    shutil.copyfile(src, dst)\n",
        "\n",
        "# Copy next 500 cat images to test_cats_dir\n",
        "fnames = ['cat.{}.jpg'.format(i) for i in range(1500, 2000)]\n",
        "for fname in fnames:\n",
        "    src = os.path.join(original_dataset_dir, fname)\n",
        "    dst = os.path.join(test_cats_dir, fname)\n",
        "    shutil.copyfile(src, dst)\n",
        "\n",
        "# Copy first 1000 dog images to train_dogs_dir\n",
        "fnames = ['dog.{}.jpg'.format(i) for i in range(1000)]\n",
        "for fname in fnames:\n",
        "    src = os.path.join(original_dataset_dir, fname)\n",
        "    dst = os.path.join(train_dogs_dir, fname)\n",
        "    shutil.copyfile(src, dst)\n",
        "\n",
        "# Copy next 500 dog images to validation_dogs_dir\n",
        "fnames = ['dog.{}.jpg'.format(i) for i in range(1000, 1500)]\n",
        "for fname in fnames:\n",
        "    src = os.path.join(original_dataset_dir, fname)\n",
        "    dst = os.path.join(validation_dogs_dir, fname)\n",
        "    shutil.copyfile(src, dst)\n",
        "\n",
        "# Copy next 500 dog images to test_dogs_dir\n",
        "fnames = ['dog.{}.jpg'.format(i) for i in range(1500, 2000)]\n",
        "for fname in fnames:\n",
        "    src = os.path.join(original_dataset_dir, fname)\n",
        "    dst = os.path.join(test_dogs_dir, fname)\n",
        "    shutil.copyfile(src, dst)\n",
        "\n"
      ],
      "execution_count": null,
      "outputs": []
    },
    {
      "cell_type": "code",
      "metadata": {
        "id": "gf3nnu2GMbvv",
        "colab": {
          "base_uri": "https://localhost:8080/"
        },
        "outputId": "7e0062b1-39f9-4003-ef23-158117475ffc"
      },
      "source": [
        "from tensorflow.keras.preprocessing.image import ImageDataGenerator\n",
        "\n",
        "datagen = ImageDataGenerator(rescale=1./255)\n",
        "batch_size = 20\n",
        "\n",
        "def extract_features(directory, sample_count):\n",
        "    features = np.zeros(shape=(sample_count, 4, 4, 512))\n",
        "    labels = np.zeros(shape=(sample_count))\n",
        "    generator = datagen.flow_from_directory(\n",
        "        directory,\n",
        "        target_size=(150, 150),\n",
        "        batch_size=batch_size,\n",
        "        class_mode='binary')\n",
        "    i = 0\n",
        "\n",
        "    for inputs_batch, labels_batch in generator:\n",
        "        features_batch = conv_base.predict(inputs_batch)\n",
        "        features[i * batch_size : (i + 1) * batch_size] = features_batch\n",
        "        labels[i * batch_size : (i + 1) * batch_size] = labels_batch\n",
        "        i += 1\n",
        "        if i * batch_size >= sample_count:\n",
        "            # Note that since generators yield data indefinitely in a loop,\n",
        "            # we must `break` after every image has been seen once.\n",
        "            break\n",
        "    return features, labels\n",
        "\n",
        "train_features, train_labels = extract_features(train_dir, 2000)\n",
        "validation_features, validation_labels = extract_features(validation_dir, 1000)\n",
        "test_features, test_labels = extract_features(test_dir, 1000)"
      ],
      "execution_count": null,
      "outputs": [
        {
          "output_type": "stream",
          "name": "stdout",
          "text": [
            "Found 2000 images belonging to 2 classes.\n",
            "Found 1000 images belonging to 2 classes.\n",
            "Found 1000 images belonging to 2 classes.\n"
          ]
        }
      ]
    },
    {
      "cell_type": "markdown",
      "metadata": {
        "id": "6uWTlV2uMbv3"
      },
      "source": [
        "The extracted features are currently of shape `(samples, 4, 4, 512)`. We will feed them to a densely-connected classifier, so first we must\n",
        "flatten them to `(samples, 8192)`:"
      ]
    },
    {
      "cell_type": "code",
      "metadata": {
        "id": "tujK-iYvMbwC"
      },
      "source": [
        "train_features = np.reshape(train_features, (2000, 4 * 4 * 512))\n",
        "validation_features = np.reshape(validation_features, (1000, 4 * 4 * 512))\n",
        "test_features = np.reshape(test_features, (1000, 4 * 4 * 512))"
      ],
      "execution_count": null,
      "outputs": []
    },
    {
      "cell_type": "markdown",
      "metadata": {
        "id": "70IpdK2_Mbwh"
      },
      "source": [
        "At this point, we can define our densely-connected classifier (note the use of dropout for regularization), and train it on the data and\n",
        "labels that we just recorded:"
      ]
    },
    {
      "cell_type": "code",
      "metadata": {
        "id": "r6oIGd6GMbwj",
        "colab": {
          "base_uri": "https://localhost:8080/"
        },
        "outputId": "aab051c6-12ba-44b7-bcd3-735d823f8146"
      },
      "source": [
        "from tensorflow.keras import models\n",
        "from tensorflow.keras import layers\n",
        "from tensorflow.keras import optimizers\n",
        "\n",
        "model = models.Sequential()\n",
        "model.add(layers.Dense(256, activation='relu', input_dim=4 * 4 * 512))\n",
        "model.add(layers.Dropout(0.5))\n",
        "model.add(layers.Dense(1, activation='sigmoid'))\n",
        "\n",
        "model.compile(optimizer=optimizers.RMSprop(lr=2e-5),\n",
        "              loss='binary_crossentropy',\n",
        "              metrics=['acc'])\n",
        "\n",
        "history = model.fit(train_features, train_labels,\n",
        "                    epochs=30,\n",
        "                    batch_size=20,\n",
        "                    validation_data=(validation_features, validation_labels))"
      ],
      "execution_count": null,
      "outputs": [
        {
          "output_type": "stream",
          "name": "stdout",
          "text": [
            "Epoch 1/30\n"
          ]
        },
        {
          "output_type": "stream",
          "name": "stderr",
          "text": [
            "/usr/local/lib/python3.7/dist-packages/keras/optimizer_v2/rmsprop.py:130: UserWarning: The `lr` argument is deprecated, use `learning_rate` instead.\n",
            "  super(RMSprop, self).__init__(name, **kwargs)\n"
          ]
        },
        {
          "output_type": "stream",
          "name": "stdout",
          "text": [
            "100/100 [==============================] - 1s 6ms/step - loss: 0.6026 - acc: 0.6755 - val_loss: 0.4598 - val_acc: 0.8360\n",
            "Epoch 2/30\n",
            "100/100 [==============================] - 0s 4ms/step - loss: 0.4361 - acc: 0.8065 - val_loss: 0.3757 - val_acc: 0.8600\n",
            "Epoch 3/30\n",
            "100/100 [==============================] - 0s 4ms/step - loss: 0.3602 - acc: 0.8525 - val_loss: 0.3355 - val_acc: 0.8620\n",
            "Epoch 4/30\n",
            "100/100 [==============================] - 0s 4ms/step - loss: 0.3269 - acc: 0.8715 - val_loss: 0.3041 - val_acc: 0.8780\n",
            "Epoch 5/30\n",
            "100/100 [==============================] - 0s 4ms/step - loss: 0.2878 - acc: 0.8790 - val_loss: 0.2881 - val_acc: 0.8870\n",
            "Epoch 6/30\n",
            "100/100 [==============================] - 0s 5ms/step - loss: 0.2738 - acc: 0.8900 - val_loss: 0.2787 - val_acc: 0.8930\n",
            "Epoch 7/30\n",
            "100/100 [==============================] - 0s 5ms/step - loss: 0.2536 - acc: 0.9000 - val_loss: 0.2712 - val_acc: 0.8950\n",
            "Epoch 8/30\n",
            "100/100 [==============================] - 0s 4ms/step - loss: 0.2345 - acc: 0.9085 - val_loss: 0.2697 - val_acc: 0.8820\n",
            "Epoch 9/30\n",
            "100/100 [==============================] - 0s 4ms/step - loss: 0.2152 - acc: 0.9140 - val_loss: 0.2658 - val_acc: 0.8880\n",
            "Epoch 10/30\n",
            "100/100 [==============================] - 0s 4ms/step - loss: 0.2091 - acc: 0.9210 - val_loss: 0.2511 - val_acc: 0.8900\n",
            "Epoch 11/30\n",
            "100/100 [==============================] - 0s 4ms/step - loss: 0.2020 - acc: 0.9260 - val_loss: 0.2504 - val_acc: 0.8930\n",
            "Epoch 12/30\n",
            "100/100 [==============================] - 0s 5ms/step - loss: 0.1949 - acc: 0.9245 - val_loss: 0.2447 - val_acc: 0.9000\n",
            "Epoch 13/30\n",
            "100/100 [==============================] - 0s 4ms/step - loss: 0.1824 - acc: 0.9355 - val_loss: 0.2422 - val_acc: 0.8990\n",
            "Epoch 14/30\n",
            "100/100 [==============================] - 0s 4ms/step - loss: 0.1780 - acc: 0.9350 - val_loss: 0.2400 - val_acc: 0.9010\n",
            "Epoch 15/30\n",
            "100/100 [==============================] - 0s 5ms/step - loss: 0.1663 - acc: 0.9440 - val_loss: 0.2396 - val_acc: 0.9010\n",
            "Epoch 16/30\n",
            "100/100 [==============================] - 0s 5ms/step - loss: 0.1643 - acc: 0.9385 - val_loss: 0.2412 - val_acc: 0.8980\n",
            "Epoch 17/30\n",
            "100/100 [==============================] - 0s 4ms/step - loss: 0.1602 - acc: 0.9410 - val_loss: 0.2372 - val_acc: 0.9020\n",
            "Epoch 18/30\n",
            "100/100 [==============================] - 0s 4ms/step - loss: 0.1501 - acc: 0.9475 - val_loss: 0.2373 - val_acc: 0.9020\n",
            "Epoch 19/30\n",
            "100/100 [==============================] - 0s 5ms/step - loss: 0.1422 - acc: 0.9480 - val_loss: 0.2441 - val_acc: 0.8940\n",
            "Epoch 20/30\n",
            "100/100 [==============================] - 0s 5ms/step - loss: 0.1409 - acc: 0.9480 - val_loss: 0.2360 - val_acc: 0.9010\n",
            "Epoch 21/30\n",
            "100/100 [==============================] - 0s 5ms/step - loss: 0.1281 - acc: 0.9575 - val_loss: 0.2333 - val_acc: 0.9020\n",
            "Epoch 22/30\n",
            "100/100 [==============================] - 0s 5ms/step - loss: 0.1274 - acc: 0.9585 - val_loss: 0.2365 - val_acc: 0.8970\n",
            "Epoch 23/30\n",
            "100/100 [==============================] - 0s 5ms/step - loss: 0.1206 - acc: 0.9620 - val_loss: 0.2409 - val_acc: 0.8970\n",
            "Epoch 24/30\n",
            "100/100 [==============================] - 0s 4ms/step - loss: 0.1177 - acc: 0.9600 - val_loss: 0.2523 - val_acc: 0.8860\n",
            "Epoch 25/30\n",
            "100/100 [==============================] - 0s 4ms/step - loss: 0.1096 - acc: 0.9665 - val_loss: 0.2358 - val_acc: 0.9010\n",
            "Epoch 26/30\n",
            "100/100 [==============================] - 0s 4ms/step - loss: 0.1062 - acc: 0.9670 - val_loss: 0.2493 - val_acc: 0.8940\n",
            "Epoch 27/30\n",
            "100/100 [==============================] - 0s 5ms/step - loss: 0.1054 - acc: 0.9695 - val_loss: 0.2363 - val_acc: 0.8980\n",
            "Epoch 28/30\n",
            "100/100 [==============================] - 0s 4ms/step - loss: 0.0983 - acc: 0.9705 - val_loss: 0.2473 - val_acc: 0.8970\n",
            "Epoch 29/30\n",
            "100/100 [==============================] - 0s 4ms/step - loss: 0.0963 - acc: 0.9735 - val_loss: 0.2374 - val_acc: 0.9010\n",
            "Epoch 30/30\n",
            "100/100 [==============================] - 0s 4ms/step - loss: 0.0905 - acc: 0.9730 - val_loss: 0.2588 - val_acc: 0.8900\n"
          ]
        }
      ]
    },
    {
      "cell_type": "markdown",
      "metadata": {
        "id": "RmgQkxAlMbwn"
      },
      "source": [
        "Training is very fast, since we only have to deal with two `Dense` layers -- an epoch takes less than one second even on CPU.\n",
        "\n",
        "Let's take a look at the loss and accuracy curves during training:"
      ]
    },
    {
      "cell_type": "code",
      "metadata": {
        "id": "sB8bd0yDMbwo",
        "colab": {
          "base_uri": "https://localhost:8080/",
          "height": 545
        },
        "outputId": "31da0d82-6051-49b0-90bf-4ab038c0e6c2"
      },
      "source": [
        "import matplotlib.pyplot as plt\n",
        "\n",
        "acc = history.history['acc']\n",
        "val_acc = history.history['val_acc']\n",
        "loss = history.history['loss']\n",
        "val_loss = history.history['val_loss']\n",
        "\n",
        "epochs = range(len(acc))\n",
        "\n",
        "plt.plot(epochs, acc, 'bo', label='Training acc')\n",
        "plt.plot(epochs, val_acc, 'b', label='Validation acc')\n",
        "plt.title('Training and validation accuracy')\n",
        "plt.legend()\n",
        "\n",
        "plt.figure()\n",
        "\n",
        "plt.plot(epochs, loss, 'bo', label='Training loss')\n",
        "plt.plot(epochs, val_loss, 'b', label='Validation loss')\n",
        "plt.title('Training and validation loss')\n",
        "plt.legend()\n",
        "\n",
        "plt.show()"
      ],
      "execution_count": null,
      "outputs": [
        {
          "output_type": "display_data",
          "data": {
            "text/plain": [
              "<Figure size 432x288 with 1 Axes>"
            ],
            "image/png": "[encoded data removed]"
          },
          "metadata": {
            "needs_background": "light"
          }
        },
        {
          "output_type": "display_data",
          "data": {
            "text/plain": [
              "<Figure size 432x288 with 1 Axes>"
            ],
            "image/png": "[encoded data removed]"
          },
          "metadata": {
            "needs_background": "light"
          }
        }
      ]
    },
    {
      "cell_type": "markdown",
      "metadata": {
        "id": "I4io9wi3Mbwz"
      },
      "source": [
        "\n",
        "We reach a validation accuracy of about 90%, much better than what we could achieve in the previous section with our small model trained from scratch.\n",
        "\n",
        "However, our plots also indicate that we are overfitting almost from the start -- despite using dropout with a fairly large rate.\n",
        "\n",
        "_This is because this technique does not leverage data augmentation, which is essential to preventing overfitting with small image datasets._\n",
        "\n",
        "__FEATURE EXTRACTION WITH DATA AUGMENTATION__\n",
        "\n",
        "Now, let's review the second technique we mentioned for doing feature extraction, which is much slower and more expensive, but which allows us to leverage data augmentation during training: extending the `conv_base` model and running it end-to-end on the inputs.\n",
        "\n",
        "Note that this technique is in fact so expensive that you should only attempt it if you have access to a GPU: it is absolutely intractable on CPU. If you cannot run your code on GPU, then the previous technique is the way to go.\n",
        "\n",
        "Because models behave just like layers, you can add a model (like our `conv_base`) to a `Sequential` model just like you would add a layer.\n",
        "\n",
        "So you can do the following:"
      ]
    },
    {
      "cell_type": "code",
      "metadata": {
        "id": "FUpdk_cqMbw1"
      },
      "source": [
        "from tensorflow.keras import models\n",
        "from tensorflow.keras import layers\n",
        "\n",
        "model = models.Sequential()\n",
        "model.add(conv_base)\n",
        "model.add(layers.Flatten())\n",
        "model.add(layers.Dense(256, activation='relu'))\n",
        "model.add(layers.Dense(1, activation='sigmoid'))"
      ],
      "execution_count": null,
      "outputs": []
    },
    {
      "cell_type": "markdown",
      "metadata": {
        "id": "FIxhghSqMbw_"
      },
      "source": [
        "This is what our model looks like now:"
      ]
    },
    {
      "cell_type": "code",
      "metadata": {
        "id": "7HRn0mpbMbxX",
        "colab": {
          "base_uri": "https://localhost:8080/"
        },
        "outputId": "727e5e80-1c8b-4b19-c21c-786924629385"
      },
      "source": [
        "model.summary()"
      ],
      "execution_count": null,
      "outputs": [
        {
          "output_type": "stream",
          "name": "stdout",
          "text": [
            "Model: \"sequential_1\"\n",
            "_________________________________________________________________\n",
            " Layer (type)                Output Shape              Param #   \n",
            "=================================================================\n",
            " vgg16 (Functional)          (None, 4, 4, 512)         14714688  \n",
            "                                                                 \n",
            " flatten (Flatten)           (None, 8192)              0         \n",
            "                                                                 \n",
            " dense_2 (Dense)             (None, 256)               2097408   \n",
            "                                                                 \n",
            " dense_3 (Dense)             (None, 1)                 257       \n",
            "                                                                 \n",
            "=================================================================\n",
            "Total params: 16,812,353\n",
            "Trainable params: 16,812,353\n",
            "Non-trainable params: 0\n",
            "_________________________________________________________________\n"
          ]
        }
      ]
    },
    {
      "cell_type": "markdown",
      "metadata": {
        "id": "0YyZZbyBMbx0"
      },
      "source": [
        "___As you can see, the convolutional base of VGG16 has 14,714,688 parameters, which is very large. The classifier we are adding on top has 2 million parameters.___\n",
        "\n",
        "Before we compile and train our model, ___a very important thing to do is to freeze the convolutional base___.\n",
        "\"Freezing\" a layer or set of layers means preventing their weights from getting updated during training.\n",
        "\n",
        "If we don't do this, then the representations that were previously learned by the convolutional base would get modified during training. Since the `Dense` layers on top are randomly initialized, very large weight updates would be propagated through the network, effectively destroying the representations previously learned.\n",
        "\n",
        "In Keras, freezing a network is done by setting its `trainable` attribute to `False`:"
      ]
    },
    {
      "cell_type": "code",
      "metadata": {
        "id": "w1sa0p0SMbx2",
        "colab": {
          "base_uri": "https://localhost:8080/"
        },
        "outputId": "e83a130b-6775-4e06-a83d-022130d8351e"
      },
      "source": [
        "print('This is the number of trainable weights '\n",
        "      'before freezing the conv base:', len(model.trainable_weights))"
      ],
      "execution_count": null,
      "outputs": [
        {
          "output_type": "stream",
          "name": "stdout",
          "text": [
            "This is the number of trainable weights before freezing the conv base: 30\n"
          ]
        }
      ]
    },
    {
      "cell_type": "code",
      "metadata": {
        "id": "wk3GFMmgAUwd",
        "colab": {
          "base_uri": "https://localhost:8080/"
        },
        "outputId": "08f5ef84-d0f9-4b4f-9754-1cefd90f19f9"
      },
      "source": [
        "model.summary()"
      ],
      "execution_count": null,
      "outputs": [
        {
          "output_type": "stream",
          "name": "stdout",
          "text": [
            "Model: \"sequential_1\"\n",
            "_________________________________________________________________\n",
            " Layer (type)                Output Shape              Param #   \n",
            "=================================================================\n",
            " vgg16 (Functional)          (None, 4, 4, 512)         14714688  \n",
            "                                                                 \n",
            " flatten (Flatten)           (None, 8192)              0         \n",
            "                                                                 \n",
            " dense_2 (Dense)             (None, 256)               2097408   \n",
            "                                                                 \n",
            " dense_3 (Dense)             (None, 1)                 257       \n",
            "                                                                 \n",
            "=================================================================\n",
            "Total params: 16,812,353\n",
            "Trainable params: 16,812,353\n",
            "Non-trainable params: 0\n",
            "_________________________________________________________________\n"
          ]
        }
      ]
    },
    {
      "cell_type": "code",
      "metadata": {
        "id": "5u5AIW6PMbyL"
      },
      "source": [
        "conv_base.trainable = False"
      ],
      "execution_count": null,
      "outputs": []
    },
    {
      "cell_type": "code",
      "metadata": {
        "id": "Ou_7REYcMbyN",
        "colab": {
          "base_uri": "https://localhost:8080/"
        },
        "outputId": "105c855b-10dc-4a2e-a8fe-da5ac596b3fa"
      },
      "source": [
        "print('This is the number of trainable weights '\n",
        "      'after freezing the conv base:', len(model.trainable_weights))"
      ],
      "execution_count": null,
      "outputs": [
        {
          "output_type": "stream",
          "name": "stdout",
          "text": [
            "This is the number of trainable weights after freezing the conv base: 4\n"
          ]
        }
      ]
    },
    {
      "cell_type": "code",
      "metadata": {
        "id": "p9GYqHEAAXm1",
        "colab": {
          "base_uri": "https://localhost:8080/"
        },
        "outputId": "c4913a98-2ff9-46de-f8de-70fd045a79d1"
      },
      "source": [
        "model.summary()"
      ],
      "execution_count": null,
      "outputs": [
        {
          "output_type": "stream",
          "name": "stdout",
          "text": [
            "Model: \"sequential_1\"\n",
            "_________________________________________________________________\n",
            " Layer (type)                Output Shape              Param #   \n",
            "=================================================================\n",
            " vgg16 (Functional)          (None, 4, 4, 512)         14714688  \n",
            "                                                                 \n",
            " flatten (Flatten)           (None, 8192)              0         \n",
            "                                                                 \n",
            " dense_2 (Dense)             (None, 256)               2097408   \n",
            "                                                                 \n",
            " dense_3 (Dense)             (None, 1)                 257       \n",
            "                                                                 \n",
            "=================================================================\n",
            "Total params: 16,812,353\n",
            "Trainable params: 2,097,665\n",
            "Non-trainable params: 14,714,688\n",
            "_________________________________________________________________\n"
          ]
        }
      ]
    },
    {
      "cell_type": "markdown",
      "metadata": {
        "id": "cIvfB6KSMbyd"
      },
      "source": [
        "With this setup, only the weights from the two `Dense` layers that we added will be trained. That's a total of four weight tensors: two per layer (the main weight matrix and the bias vector).\n",
        "\n",
        "Note that in order for these changes to take effect, we must first compile the model.\n",
        "\n",
        "If you ever modify weight trainability after compilation, you should then re-compile the model, or these changes would be ignored.\n",
        "\n",
        "Now we can start training our model, with the same data augmentation configuration that we used in our previous example:\n",
        "\n",
        "__Please take care of the parameter: process_input in ImageDataGenerator class.__\n",
        "This one is important as it performs the necessary preprocessing needed for the image before giving it to the model you transfer from.\n",
        "Every pre-trained net typically provides the good pre-processing function.\n",
        "\n",
        "For VGG16: keras.applications.vgg16.preprocess_input\n",
        "It's also ok to use from keras.applications.imagenet_utils import preprocess_input in case of VGG"
      ]
    },
    {
      "cell_type": "code",
      "metadata": {
        "id": "gw4-gceUMbyo",
        "cellView": "code",
        "colab": {
          "base_uri": "https://localhost:8080/"
        },
        "outputId": "5e90e53a-d671-45ec-b5ca-1a6241c19f99"
      },
      "source": [
        "#@title Default title text\n",
        "from tensorflow.keras.preprocessing.image import ImageDataGenerator\n",
        "from tensorflow.keras.applications.imagenet_utils import preprocess_input\n",
        "\n",
        "\n",
        "train_datagen = ImageDataGenerator(\n",
        "      #rescale=1./255,\n",
        "      preprocessing_function=preprocess_input,\n",
        "      rotation_range=40,\n",
        "      width_shift_range=0.2,\n",
        "      height_shift_range=0.2,\n",
        "      shear_range=0.2,\n",
        "      zoom_range=0.2,\n",
        "      horizontal_flip=True,\n",
        "      fill_mode='nearest')\n",
        "\n",
        "# Note that the validation data should not be augmented!\n",
        "test_datagen = ImageDataGenerator(preprocessing_function=preprocess_input)#rescale=1./255) # Issue: https://github.com/fchollet/deep-learning-with-python-notebooks/issues/21\n",
        "\n",
        "train_generator = train_datagen.flow_from_directory(\n",
        "        # This is the target directory\n",
        "        train_dir,\n",
        "        # All images will be resized to 150x150\n",
        "        target_size=(150, 150),\n",
        "        batch_size=20,\n",
        "        # Since we use binary_crossentropy loss, we need binary labels\n",
        "        class_mode='binary')\n",
        "\n",
        "validation_generator = test_datagen.flow_from_directory(\n",
        "        validation_dir,\n",
        "        target_size=(150, 150),\n",
        "        batch_size=20,\n",
        "        class_mode='binary')\n",
        "\n",
        "model.compile(loss='binary_crossentropy',\n",
        "              optimizer=optimizers.RMSprop(lr=2e-5),\n",
        "              metrics=['acc'])\n",
        "\n",
        "history = model.fit_generator(\n",
        "      train_generator,\n",
        "      steps_per_epoch=100,\n",
        "      epochs=30,\n",
        "      validation_data=validation_generator,\n",
        "      validation_steps=50,\n",
        "      verbose=2)"
      ],
      "execution_count": null,
      "outputs": [
        {
          "output_type": "stream",
          "name": "stdout",
          "text": [
            "Found 2000 images belonging to 2 classes.\n",
            "Found 1000 images belonging to 2 classes.\n",
            "Epoch 1/30\n"
          ]
        },
        {
          "output_type": "stream",
          "name": "stderr",
          "text": [
            "/usr/local/lib/python3.7/dist-packages/keras/optimizer_v2/rmsprop.py:130: UserWarning: The `lr` argument is deprecated, use `learning_rate` instead.\n",
            "  super(RMSprop, self).__init__(name, **kwargs)\n",
            "/usr/local/lib/python3.7/dist-packages/ipykernel_launcher.py:44: UserWarning: `Model.fit_generator` is deprecated and will be removed in a future version. Please use `Model.fit`, which supports generators.\n"
          ]
        },
        {
          "output_type": "stream",
          "name": "stdout",
          "text": [
            "100/100 - 20s - loss: 1.9180 - acc: 0.7905 - val_loss: 0.6980 - val_acc: 0.9250 - 20s/epoch - 196ms/step\n",
            "Epoch 2/30\n",
            "100/100 - 19s - loss: 0.9708 - acc: 0.8790 - val_loss: 0.5487 - val_acc: 0.9430 - 19s/epoch - 186ms/step\n",
            "Epoch 3/30\n",
            "100/100 - 19s - loss: 0.8301 - acc: 0.9035 - val_loss: 0.6388 - val_acc: 0.9430 - 19s/epoch - 186ms/step\n",
            "Epoch 4/30\n",
            "100/100 - 19s - loss: 0.7848 - acc: 0.8965 - val_loss: 0.3892 - val_acc: 0.9620 - 19s/epoch - 186ms/step\n",
            "Epoch 5/30\n",
            "100/100 - 19s - loss: 0.5957 - acc: 0.9220 - val_loss: 0.4061 - val_acc: 0.9610 - 19s/epoch - 187ms/step\n",
            "Epoch 6/30\n",
            "100/100 - 19s - loss: 0.5430 - acc: 0.9320 - val_loss: 0.4734 - val_acc: 0.9580 - 19s/epoch - 186ms/step\n",
            "Epoch 7/30\n",
            "100/100 - 19s - loss: 0.5724 - acc: 0.9235 - val_loss: 0.4509 - val_acc: 0.9620 - 19s/epoch - 187ms/step\n",
            "Epoch 8/30\n",
            "100/100 - 19s - loss: 0.4191 - acc: 0.9400 - val_loss: 0.3684 - val_acc: 0.9590 - 19s/epoch - 187ms/step\n",
            "Epoch 9/30\n",
            "100/100 - 19s - loss: 0.5159 - acc: 0.9340 - val_loss: 0.3358 - val_acc: 0.9660 - 19s/epoch - 187ms/step\n",
            "Epoch 10/30\n",
            "100/100 - 19s - loss: 0.4197 - acc: 0.9410 - val_loss: 0.4106 - val_acc: 0.9600 - 19s/epoch - 186ms/step\n",
            "Epoch 11/30\n",
            "100/100 - 20s - loss: 0.4166 - acc: 0.9365 - val_loss: 0.3615 - val_acc: 0.9660 - 20s/epoch - 200ms/step\n",
            "Epoch 12/30\n",
            "100/100 - 19s - loss: 0.3562 - acc: 0.9470 - val_loss: 0.3883 - val_acc: 0.9630 - 19s/epoch - 186ms/step\n",
            "Epoch 13/30\n",
            "100/100 - 19s - loss: 0.3572 - acc: 0.9490 - val_loss: 0.3229 - val_acc: 0.9640 - 19s/epoch - 186ms/step\n",
            "Epoch 14/30\n",
            "100/100 - 19s - loss: 0.3424 - acc: 0.9460 - val_loss: 0.3153 - val_acc: 0.9680 - 19s/epoch - 187ms/step\n",
            "Epoch 15/30\n",
            "100/100 - 19s - loss: 0.2916 - acc: 0.9485 - val_loss: 0.3684 - val_acc: 0.9660 - 19s/epoch - 187ms/step\n",
            "Epoch 16/30\n",
            "100/100 - 19s - loss: 0.2898 - acc: 0.9600 - val_loss: 0.3560 - val_acc: 0.9660 - 19s/epoch - 187ms/step\n",
            "Epoch 17/30\n",
            "100/100 - 19s - loss: 0.2504 - acc: 0.9535 - val_loss: 0.3511 - val_acc: 0.9650 - 19s/epoch - 185ms/step\n",
            "Epoch 18/30\n",
            "100/100 - 19s - loss: 0.2632 - acc: 0.9550 - val_loss: 0.3204 - val_acc: 0.9680 - 19s/epoch - 187ms/step\n",
            "Epoch 19/30\n",
            "100/100 - 19s - loss: 0.2612 - acc: 0.9555 - val_loss: 0.3161 - val_acc: 0.9680 - 19s/epoch - 186ms/step\n",
            "Epoch 20/30\n",
            "100/100 - 19s - loss: 0.2734 - acc: 0.9525 - val_loss: 0.3118 - val_acc: 0.9700 - 19s/epoch - 187ms/step\n",
            "Epoch 21/30\n",
            "100/100 - 19s - loss: 0.3012 - acc: 0.9530 - val_loss: 0.2719 - val_acc: 0.9700 - 19s/epoch - 187ms/step\n",
            "Epoch 22/30\n",
            "100/100 - 19s - loss: 0.1865 - acc: 0.9630 - val_loss: 0.2905 - val_acc: 0.9710 - 19s/epoch - 185ms/step\n",
            "Epoch 23/30\n",
            "100/100 - 19s - loss: 0.3009 - acc: 0.9555 - val_loss: 0.2756 - val_acc: 0.9700 - 19s/epoch - 186ms/step\n",
            "Epoch 24/30\n",
            "100/100 - 19s - loss: 0.2819 - acc: 0.9535 - val_loss: 0.3141 - val_acc: 0.9680 - 19s/epoch - 187ms/step\n",
            "Epoch 25/30\n",
            "100/100 - 19s - loss: 0.3054 - acc: 0.9575 - val_loss: 0.3266 - val_acc: 0.9690 - 19s/epoch - 187ms/step\n",
            "Epoch 26/30\n",
            "100/100 - 19s - loss: 0.1369 - acc: 0.9685 - val_loss: 0.2912 - val_acc: 0.9670 - 19s/epoch - 186ms/step\n",
            "Epoch 27/30\n",
            "100/100 - 19s - loss: 0.2561 - acc: 0.9595 - val_loss: 0.3075 - val_acc: 0.9670 - 19s/epoch - 194ms/step\n",
            "Epoch 28/30\n",
            "100/100 - 19s - loss: 0.2492 - acc: 0.9580 - val_loss: 0.3180 - val_acc: 0.9700 - 19s/epoch - 187ms/step\n",
            "Epoch 29/30\n",
            "100/100 - 19s - loss: 0.2578 - acc: 0.9550 - val_loss: 0.2587 - val_acc: 0.9720 - 19s/epoch - 188ms/step\n",
            "Epoch 30/30\n",
            "100/100 - 19s - loss: 0.2001 - acc: 0.9675 - val_loss: 0.2583 - val_acc: 0.9700 - 19s/epoch - 186ms/step\n"
          ]
        }
      ]
    },
    {
      "cell_type": "code",
      "metadata": {
        "id": "DDOx0KZrMby1"
      },
      "source": [
        "model.save('gdrive/My Drive/cats_and_dogs_small_3.h5')"
      ],
      "execution_count": null,
      "outputs": []
    },
    {
      "cell_type": "markdown",
      "metadata": {
        "id": "tjxTvJ5EMby8"
      },
      "source": [
        "Let's plot our results again:"
      ]
    },
    {
      "cell_type": "code",
      "metadata": {
        "id": "1lQ3dnz6Mby_",
        "colab": {
          "base_uri": "https://localhost:8080/",
          "height": 545
        },
        "outputId": "32c73cad-309e-4702-b172-c3b34d8ac65a"
      },
      "source": [
        "acc = history.history['acc']\n",
        "val_acc = history.history['val_acc']\n",
        "loss = history.history['loss']\n",
        "val_loss = history.history['val_loss']\n",
        "\n",
        "epochs = range(len(acc))\n",
        "\n",
        "plt.plot(epochs, acc, 'bo', label='Training acc')\n",
        "plt.plot(epochs, val_acc, 'b', label='Validation acc')\n",
        "plt.title('Training and validation accuracy')\n",
        "plt.legend()\n",
        "\n",
        "plt.figure()\n",
        "\n",
        "plt.plot(epochs, loss, 'bo', label='Training loss')\n",
        "plt.plot(epochs, val_loss, 'b', label='Validation loss')\n",
        "plt.title('Training and validation loss')\n",
        "plt.legend()\n",
        "\n",
        "plt.show()"
      ],
      "execution_count": null,
      "outputs": [
        {
          "output_type": "display_data",
          "data": {
            "text/plain": [
              "<Figure size 432x288 with 1 Axes>"
            ],
            "image/png": "[encoded data removed]"
          },
          "metadata": {
            "needs_background": "light"
          }
        },
        {
          "output_type": "display_data",
          "data": {
            "text/plain": [
              "<Figure size 432x288 with 1 Axes>"
            ],
            "image/png": "[encoded data removed]"
          },
          "metadata": {
            "needs_background": "light"
          }
        }
      ]
    },
    {
      "cell_type": "markdown",
      "metadata": {
        "id": "DALRwC07MbzP"
      },
      "source": [
        "As you can see, we reach a validation accuracy of about 96%. This is much better than our small convnet trained from scratch."
      ]
    },
    {
      "cell_type": "markdown",
      "metadata": {
        "id": "nNQrmOZqMbzR"
      },
      "source": [
        "## Fine-tuning\n",
        "\n",
        "Another widely used technique for model reuse, complementary to feature extraction, is _fine-tuning_.\n",
        "Fine-tuning consists in unfreezing a few of the top layers\n",
        "of a frozen model base used for feature extraction, and jointly training both the newly added part of the model (in our case, the\n",
        "fully-connected classifier) and these top layers. This is called \"fine-tuning\" because it slightly adjusts the more abstract\n",
        "representations of the model being reused, in order to make them more relevant for the problem at hand.\n",
        "\n",
        "![fine-tuning VGG16](https://s3.amazonaws.com/book.keras.io/img/ch5/vgg16_fine_tuning.png)"
      ]
    },
    {
      "cell_type": "markdown",
      "metadata": {
        "id": "AFP6bmYxMbzX"
      },
      "source": [
        "We have stated before that it was necessary to freeze the convolution base of VGG16 in order to be able to train a randomly initialized classifier on top. For the same reason, it is only possible to fine-tune the top layers of the convolutional base once the classifier on top has already been trained. If the classified wasn't already trained, then the error signal propagating through the network during training would be too large, and __the representations previously learned by the layers being fine-tuned would be destroyed__. Thus the steps\n",
        "for fine-tuning a network are as follow:\n",
        "\n",
        "* 1) Add your custom network on top of an already trained base network.\n",
        "* 2) Freeze the base network.\n",
        "* 3) Train the part you added.\n",
        "* 4) Unfreeze some layers in the base network.\n",
        "* 5) Jointly train both these layers and the part you added.\n",
        "\n",
        "We have already completed the first 3 steps when doing feature extraction. Let's proceed with the 4th step: we will unfreeze our `conv_base`, and then freeze individual layers inside of it.\n",
        "\n",
        "As a reminder, this is what our convolutional base looks like:"
      ]
    },
    {
      "cell_type": "code",
      "metadata": {
        "id": "sLpsc7k9MbzY",
        "colab": {
          "base_uri": "https://localhost:8080/"
        },
        "outputId": "70985161-6abf-44c3-e0c4-c3c29f216182"
      },
      "source": [
        "conv_base.summary()"
      ],
      "execution_count": null,
      "outputs": [
        {
          "output_type": "stream",
          "name": "stdout",
          "text": [
            "Model: \"vgg16\"\n",
            "_________________________________________________________________\n",
            " Layer (type)                Output Shape              Param #   \n",
            "=================================================================\n",
            " input_1 (InputLayer)        [(None, 150, 150, 3)]     0         \n",
            "                                                                 \n",
            " block1_conv1 (Conv2D)       (None, 150, 150, 64)      1792      \n",
            "                                                                 \n",
            " block1_conv2 (Conv2D)       (None, 150, 150, 64)      36928     \n",
            "                                                                 \n",
            " block1_pool (MaxPooling2D)  (None, 75, 75, 64)        0         \n",
            "                                                                 \n",
            " block2_conv1 (Conv2D)       (None, 75, 75, 128)       73856     \n",
            "                                                                 \n",
            " block2_conv2 (Conv2D)       (None, 75, 75, 128)       147584    \n",
            "                                                                 \n",
            " block2_pool (MaxPooling2D)  (None, 37, 37, 128)       0         \n",
            "                                                                 \n",
            " block3_conv1 (Conv2D)       (None, 37, 37, 256)       295168    \n",
            "                                                                 \n",
            " block3_conv2 (Conv2D)       (None, 37, 37, 256)       590080    \n",
            "                                                                 \n",
            " block3_conv3 (Conv2D)       (None, 37, 37, 256)       590080    \n",
            "                                                                 \n",
            " block3_pool (MaxPooling2D)  (None, 18, 18, 256)       0         \n",
            "                                                                 \n",
            " block4_conv1 (Conv2D)       (None, 18, 18, 512)       1180160   \n",
            "                                                                 \n",
            " block4_conv2 (Conv2D)       (None, 18, 18, 512)       2359808   \n",
            "                                                                 \n",
            " block4_conv3 (Conv2D)       (None, 18, 18, 512)       2359808   \n",
            "                                                                 \n",
            " block4_pool (MaxPooling2D)  (None, 9, 9, 512)         0         \n",
            "                                                                 \n",
            " block5_conv1 (Conv2D)       (None, 9, 9, 512)         2359808   \n",
            "                                                                 \n",
            " block5_conv2 (Conv2D)       (None, 9, 9, 512)         2359808   \n",
            "                                                                 \n",
            " block5_conv3 (Conv2D)       (None, 9, 9, 512)         2359808   \n",
            "                                                                 \n",
            " block5_pool (MaxPooling2D)  (None, 4, 4, 512)         0         \n",
            "                                                                 \n",
            "=================================================================\n",
            "Total params: 14,714,688\n",
            "Trainable params: 0\n",
            "Non-trainable params: 14,714,688\n",
            "_________________________________________________________________\n"
          ]
        }
      ]
    },
    {
      "cell_type": "markdown",
      "metadata": {
        "id": "SdZL3PqSMbzd"
      },
      "source": [
        "\n",
        "We will fine-tune the last 3 convolutional layers, which means that all layers up until `block4_pool` should be frozen, and the layers\n",
        "`block5_conv1`, `block5_conv2` and `block5_conv3` should be trainable.\n",
        "\n",
        "### Why not fine-tune more layers? Why not fine-tune the entire convolutional base? We could. However, we need to consider that:\n",
        "\n",
        "* If we do, we gain nothing from Transfer Learnig:\n",
        "\n",
        "Earlier layers in the convolutional base encode more generic, reusable features, while layers higher up encode more specialized features. It is more useful to fine-tune the more specialized features, as these are the ones that need to be repurposed on our new problem. There would\n",
        "be fast-decreasing returns in fine-tuning lower layers.\n",
        "\n",
        "* Risk of overfitting for big model:\n",
        "\n",
        "The more parameters we are training, the more we are at risk of overfitting. _The convolutional base has 15M parameters_, so it would be risky to attempt to train it on our small dataset.\n",
        "Thus, in our situation, it is a good strategy to only fine-tune the top 2 to 3 layers in the convolutional base.\n",
        "\n",
        "Let's set this up, starting from where we left off in the previous example:"
      ]
    },
    {
      "cell_type": "code",
      "metadata": {
        "id": "BDdkTIVUMbzd"
      },
      "source": [
        "conv_base.trainable = True\n",
        "\n",
        "set_trainable = False\n",
        "for layer in conv_base.layers:\n",
        "    if layer.name == 'block5_conv1':\n",
        "        set_trainable = True\n",
        "    if set_trainable:\n",
        "        layer.trainable = True\n",
        "    else:\n",
        "        layer.trainable = False"
      ],
      "execution_count": null,
      "outputs": []
    },
    {
      "cell_type": "markdown",
      "metadata": {
        "id": "oBBxNlPSMbzo"
      },
      "source": [
        "Now we can start fine-tuning our network. We will do this with the RMSprop optimizer, using a very low learning rate. The reason for using\n",
        "a low learning rate is that we want to limit the magnitude of the modifications we make to the representations of the 3 layers that we are\n",
        "fine-tuning. Updates that are too large may harm these representations.\n",
        "\n",
        "Now let's proceed with fine-tuning:"
      ]
    },
    {
      "cell_type": "code",
      "metadata": {
        "id": "A2Hl5w1dMbzp",
        "colab": {
          "base_uri": "https://localhost:8080/"
        },
        "outputId": "d9b5a1a8-b619-4489-9fb0-3a48790dc52e"
      },
      "source": [
        "model.compile(loss='binary_crossentropy',\n",
        "              optimizer=optimizers.RMSprop(lr=1e-5),\n",
        "              metrics=['acc'])\n",
        "\n",
        "history = model.fit_generator(\n",
        "      train_generator,\n",
        "      steps_per_epoch=100,\n",
        "      epochs=10,\n",
        "      validation_data=validation_generator,\n",
        "      validation_steps=50)"
      ],
      "execution_count": null,
      "outputs": [
        {
          "output_type": "stream",
          "name": "stdout",
          "text": [
            "Epoch 1/10\n"
          ]
        },
        {
          "output_type": "stream",
          "name": "stderr",
          "text": [
            "/usr/local/lib/python3.7/dist-packages/keras/optimizer_v2/rmsprop.py:130: UserWarning: The `lr` argument is deprecated, use `learning_rate` instead.\n",
            "  super(RMSprop, self).__init__(name, **kwargs)\n",
            "/usr/local/lib/python3.7/dist-packages/ipykernel_launcher.py:10: UserWarning: `Model.fit_generator` is deprecated and will be removed in a future version. Please use `Model.fit`, which supports generators.\n",
            "  # Remove the CWD from sys.path while we load stuff.\n"
          ]
        },
        {
          "output_type": "stream",
          "name": "stdout",
          "text": [
            "100/100 [==============================] - 22s 203ms/step - loss: 0.1710 - acc: 0.9640 - val_loss: 0.2729 - val_acc: 0.9670\n",
            "Epoch 2/10\n",
            "100/100 [==============================] - 20s 198ms/step - loss: 0.1718 - acc: 0.9680 - val_loss: 0.2605 - val_acc: 0.9690\n",
            "Epoch 3/10\n",
            "100/100 [==============================] - 20s 198ms/step - loss: 0.1620 - acc: 0.9660 - val_loss: 0.2636 - val_acc: 0.9660\n",
            "Epoch 4/10\n",
            "100/100 [==============================] - 20s 199ms/step - loss: 0.1591 - acc: 0.9650 - val_loss: 0.2341 - val_acc: 0.9670\n",
            "Epoch 5/10\n",
            "100/100 [==============================] - 20s 200ms/step - loss: 0.1196 - acc: 0.9680 - val_loss: 0.2105 - val_acc: 0.9710\n",
            "Epoch 6/10\n",
            "100/100 [==============================] - 20s 199ms/step - loss: 0.1329 - acc: 0.9710 - val_loss: 0.2574 - val_acc: 0.9660\n",
            "Epoch 7/10\n",
            "100/100 [==============================] - 20s 198ms/step - loss: 0.1581 - acc: 0.9650 - val_loss: 0.1866 - val_acc: 0.9690\n",
            "Epoch 8/10\n",
            "100/100 [==============================] - 20s 198ms/step - loss: 0.0884 - acc: 0.9760 - val_loss: 0.2093 - val_acc: 0.9710\n",
            "Epoch 9/10\n",
            "100/100 [==============================] - 20s 198ms/step - loss: 0.0867 - acc: 0.9780 - val_loss: 0.1983 - val_acc: 0.9680\n",
            "Epoch 10/10\n",
            "100/100 [==============================] - 20s 197ms/step - loss: 0.0843 - acc: 0.9765 - val_loss: 0.2484 - val_acc: 0.9720\n"
          ]
        }
      ]
    },
    {
      "cell_type": "code",
      "metadata": {
        "id": "5_ifY8mLMbz_"
      },
      "source": [
        "model.save('gdrive/My Drive/cats_and_dogs_small_4.h5')"
      ],
      "execution_count": null,
      "outputs": []
    },
    {
      "cell_type": "markdown",
      "metadata": {
        "id": "tx5VeDLiMb0M"
      },
      "source": [
        "Let's plot our results using the same plotting code as before:"
      ]
    },
    {
      "cell_type": "code",
      "metadata": {
        "id": "uNkkxBIcMb0N",
        "colab": {
          "base_uri": "https://localhost:8080/",
          "height": 545
        },
        "outputId": "286081c0-5f33-47cf-9b7d-a99851c8ce2f"
      },
      "source": [
        "acc = history.history['acc']\n",
        "val_acc = history.history['val_acc']\n",
        "loss = history.history['loss']\n",
        "val_loss = history.history['val_loss']\n",
        "\n",
        "epochs = range(len(acc))\n",
        "\n",
        "plt.plot(epochs, acc, 'bo', label='Training acc')\n",
        "plt.plot(epochs, val_acc, 'b', label='Validation acc')\n",
        "plt.title('Training and validation accuracy')\n",
        "plt.legend()\n",
        "\n",
        "plt.figure()\n",
        "\n",
        "plt.plot(epochs, loss, 'bo', label='Training loss')\n",
        "plt.plot(epochs, val_loss, 'b', label='Validation loss')\n",
        "plt.title('Training and validation loss')\n",
        "plt.legend()\n",
        "\n",
        "plt.show()"
      ],
      "execution_count": null,
      "outputs": [
        {
          "output_type": "display_data",
          "data": {
            "text/plain": [
              "<Figure size 432x288 with 1 Axes>"
            ],
            "image/png": "[encoded data removed]"
          },
          "metadata": {
            "needs_background": "light"
          }
        },
        {
          "output_type": "display_data",
          "data": {
            "text/plain": [
              "<Figure size 432x288 with 1 Axes>"
            ],
            "image/png": "[encoded data removed]"
          },
          "metadata": {
            "needs_background": "light"
          }
        }
      ]
    },
    {
      "cell_type": "markdown",
      "metadata": {
        "id": "QMkqu1CTMb0R"
      },
      "source": [
        "\n",
        "These curves look very noisy. To make them more readable, we can smooth them by replacing every loss and accuracy with exponential moving\n",
        "averages of these quantities. Here's a trivial utility function to do this:"
      ]
    },
    {
      "cell_type": "code",
      "metadata": {
        "id": "sp59Z43IMb0S",
        "colab": {
          "base_uri": "https://localhost:8080/",
          "height": 545
        },
        "outputId": "5bca92ca-d10b-41b4-bee0-d5c0dd13f381"
      },
      "source": [
        "def smooth_curve(points, factor=0.8):\n",
        "    smoothed_points = []\n",
        "    for point in points:\n",
        "        if smoothed_points:\n",
        "            previous = smoothed_points[-1]\n",
        "            smoothed_points.append(previous * factor + point * (1 - factor))\n",
        "        else:\n",
        "            smoothed_points.append(point)\n",
        "    return smoothed_points\n",
        "\n",
        "plt.plot(epochs,\n",
        "         smooth_curve(acc), 'bo', label='Smoothed training acc')\n",
        "plt.plot(epochs,\n",
        "         smooth_curve(val_acc), 'b', label='Smoothed validation acc')\n",
        "plt.title('Training and validation accuracy')\n",
        "plt.legend()\n",
        "\n",
        "plt.figure()\n",
        "\n",
        "plt.plot(epochs,\n",
        "         smooth_curve(loss), 'bo', label='Smoothed training loss')\n",
        "plt.plot(epochs,\n",
        "         smooth_curve(val_loss), 'b', label='Smoothed validation loss')\n",
        "plt.title('Training and validation loss')\n",
        "plt.legend()\n",
        "\n",
        "plt.show()"
      ],
      "execution_count": null,
      "outputs": [
        {
          "output_type": "display_data",
          "data": {
            "text/plain": [
              "<Figure size 432x288 with 1 Axes>"
            ],
            "image/png": "[encoded data removed]"
          },
          "metadata": {
            "needs_background": "light"
          }
        },
        {
          "output_type": "display_data",
          "data": {
            "text/plain": [
              "<Figure size 432x288 with 1 Axes>"
            ],
            "image/png": "[encoded data removed]"
          },
          "metadata": {
            "needs_background": "light"
          }
        }
      ]
    },
    {
      "cell_type": "markdown",
      "metadata": {
        "id": "ts0sMYXrMb0c"
      },
      "source": [
        "\n",
        "These curves look much cleaner and more stable. We are seeing a nice 1% absolute improvement.\n",
        "\n",
        "\n",
        "We can now finally evaluate this model on the test data:"
      ]
    },
    {
      "cell_type": "code",
      "metadata": {
        "id": "YfHtSTEFMb0d",
        "colab": {
          "base_uri": "https://localhost:8080/"
        },
        "outputId": "4e1aee39-6f8c-4a93-8c53-e1bc781b97a1"
      },
      "source": [
        "test_generator = test_datagen.flow_from_directory(\n",
        "        test_dir,\n",
        "        target_size=(150, 150),\n",
        "        batch_size=20,\n",
        "        class_mode='binary')\n",
        "\n",
        "test_loss, test_acc = model.evaluate_generator(test_generator, steps=50)\n",
        "print('test acc:', test_acc)"
      ],
      "execution_count": null,
      "outputs": [
        {
          "output_type": "stream",
          "name": "stdout",
          "text": [
            "Found 1000 images belonging to 2 classes.\n"
          ]
        },
        {
          "output_type": "stream",
          "name": "stderr",
          "text": [
            "/usr/local/lib/python3.7/dist-packages/ipykernel_launcher.py:7: UserWarning: `Model.evaluate_generator` is deprecated and will be removed in a future version. Please use `Model.evaluate`, which supports generators.\n",
            "  import sys\n"
          ]
        },
        {
          "output_type": "stream",
          "name": "stdout",
          "text": [
            "test acc: 0.9620000123977661\n"
          ]
        }
      ]
    },
    {
      "cell_type": "markdown",
      "metadata": {
        "id": "Li2QpPqbMb0q"
      },
      "source": [
        "\n",
        "Here we get a test accuracy of 97%. In the original Kaggle competition around this dataset, this would have been one of the top results.\n",
        "However, using modern deep learning techniques, we managed to reach this result using only a very small fraction of the training data\n",
        "available (about 10%). There is a huge difference between being able to train on 20,000 samples compared to 2,000 samples!"
      ]
    },
    {
      "cell_type": "markdown",
      "metadata": {
        "id": "JMTZ_nbDMb0r"
      },
      "source": [
        "## Take-aways: using convnets with small datasets\n",
        "\n",
        "Here's what you should take away from the exercises of these past two sections:\n",
        "\n",
        "* Convnets are the best type of machine learning models for computer vision tasks. It is possible to train one from scratch even on a very\n",
        "small dataset, with decent results.\n",
        "* On a small dataset, overfitting will be the main issue. Data augmentation is a powerful way to fight overfitting when working with image\n",
        "data.\n",
        "* It is easy to reuse an existing convnet on a new dataset, via feature extraction. This is a very valuable technique for working with\n",
        "small image datasets.\n",
        "* As a complement to feature extraction, one may use fine-tuning, which adapts to a new problem some of the representations previously\n",
        "learned by an existing model. This pushes performance a bit further.\n",
        "\n",
        "Now you have a solid set of tools for dealing with image classification problems, in particular with small datasets."
      ]
    },
    {
      "cell_type": "code",
      "metadata": {
        "id": "Lza4TaXVSTT9"
      },
      "source": [],
      "execution_count": null,
      "outputs": []
    },
    {
      "cell_type": "code",
      "metadata": {
        "id": "h1wiaIlnHxvn"
      },
      "source": [],
      "execution_count": null,
      "outputs": []
    }
  ]
}